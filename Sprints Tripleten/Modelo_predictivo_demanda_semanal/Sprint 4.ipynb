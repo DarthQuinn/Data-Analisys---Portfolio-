{
 "cells": [
  {
   "cell_type": "markdown",
   "id": "b3941607-4d16-423c-b9bd-f129f8f54f02",
   "metadata": {},
   "source": [
    "# ¡Hola Jean! 😊\n",
    "\n",
    "Mi nombre es **Alejandro Castellanos** y hoy tengo el placer de ser el revisor de tu proyecto.\n",
    "\n",
    "Voy a revisar todo tu código con detalle, buscando tanto los puntos fuertes como aquellos en los que podrías mejorar. Te dejaré comentarios a lo largo del notebook, destacando lo que has hecho bien y sugiriendo ajustes donde sea necesario. Si encuentro algún error, no te preocupes, te lo haré saber de forma clara y te daré información útil para que puedas corregirlo en la próxima iteración. Si en algún punto tienes comentarios, siéntete libre de dejarlos también.\n",
    "\n",
    "\n",
    "Encontrarás mis comentarios específicos dentro de cajas verdes, amarillas o rojas, es muy importante que no muevas, modifiques o borres mis comentarios, con el fin de tener un seguimiento adecuado de tu proceso:\n",
    "\n",
    "\n",
    "<div class=\"alert alert-block alert-success\">\n",
    "<b>Comentario del revisor</b> <a class=“tocSkip”></a>\n",
    "Si todo está perfecto.\n",
    "</div>\n",
    "\n",
    "<div class=\"alert alert-block alert-warning\">\n",
    "<b>Comentario del revisor</b> <a class=“tocSkip”></a>\n",
    "Si tu código está bien pero se puede mejorar o hay algún detalle que le hace falta.\n",
    "</div>\n",
    "\n",
    "<div class=\"alert alert-block alert-danger\">\n",
    "<b>Comentario del revisor</b> <a class=“tocSkip”></a>\n",
    "Si de pronto hace falta algo o existe algún problema con tu código o conclusiones.\n",
    "</div>\n",
    "\n",
    "Puedes responderme de esta forma:\n",
    "<div class=\"alert alert-block alert-info\">\n",
    "<b>Respuesta del estudiante</b> <a class=“tocSkip”></a>\n",
    "</div>\n",
    "\n",
    "A continuación te dejaré un comentario general con mi valoración del proyecto. **¡Mi objetivo es que sigas aprendiendo y mejorando con cada paso!**\n"
   ]
  },
  {
   "cell_type": "markdown",
   "id": "2a62ef11-dcdc-4eae-87d1-713e8824a49a",
   "metadata": {},
   "source": [
    "----"
   ]
  },
  {
   "cell_type": "markdown",
   "id": "322be64c-b027-4087-9460-6594c482d4a7",
   "metadata": {},
   "source": [
    "<div class=\"alert alert-block alert-warning\">\n",
    "<b>Comentario del revisor (1ra Iteración)</b> <a class=“tocSkip”></a>\n",
    "\n",
    "¡Name muy buen trabajo en este proyecto tan exigente! Has avanzado en habilidades importantes como integración y manejo de múltiples fuentes de datos, así como en análisis exploratorio profundo. \n",
    "\n",
    "No obstante, tienes algunos errores ya que no estás obteniendo los resultados esperados, recuerda que enfrentar retos complejos es parte esencial de tu crecimiento como analista. Revisa las observaciones que te hice, para que tu proyecto cumpla con todos los objetivos propuestos.\n",
    "\n",
    "No debes desanimarte, esto hace parte del proceso de aprendizaje y hasta el momento has demostrado un gran dominio en la manejo y análisis de datos, por lo que estoy seguro que podrás hacer los ajustes fácilmente.\n",
    "\n",
    "Estaré atento a tu próxima iteración 👀\n",
    "\n",
    "\n",
    "\n",
    "</div>"
   ]
  },
  {
   "cell_type": "markdown",
   "id": "b0dace83-3720-4d82-9633-338a4e85030c",
   "metadata": {},
   "source": [
    "<div class=\"alert alert-block alert-success\">\n",
    "<b>Comentario General del revisor (2da Iteración)</b> <a class=“tocSkip”></a>\n",
    "\n",
    "¡Jean excelente trabajo con los ajustes! Tu proyecto ahora cumple con todos los objetivos propuestos. Estoy seguro de que lo que aprendiste aquí te será muy útil más adelante. \n",
    "\n",
    "¡Éxito en tu próximo sprint! 🚀\n",
    "\n",
    "*Estado del Proyecto:* **Aprobado**\n",
    "\n",
    "</div>"
   ]
  },
  {
   "cell_type": "markdown",
   "id": "234503a3-aa41-4db0-9ba7-65ad66a2b629",
   "metadata": {},
   "source": [
    "-----"
   ]
  },
  {
   "cell_type": "markdown",
   "id": "3Xg_RQfnafXz",
   "metadata": {
    "id": "3Xg_RQfnafXz",
    "jp-MarkdownHeadingCollapsed": true
   },
   "source": [
    "# ¡Llena ese carrito!"
   ]
  },
  {
   "cell_type": "markdown",
   "id": "mhIvmmkW414q",
   "metadata": {
    "id": "mhIvmmkW414q"
   },
   "source": [
    "# Introducción\n",
    "\n",
    "Instacart es una plataforma de entregas de comestibles donde la clientela puede registrar un pedido y hacer que se lo entreguen, similar a Uber Eats y Door Dash.\n",
    "El conjunto de datos que te hemos proporcionado tiene modificaciones del original. Redujimos el tamaño del conjunto para que tus cálculos se hicieran más rápido e introdujimos valores ausentes y duplicados. Tuvimos cuidado de conservar las distribuciones de los datos originales cuando hicimos los cambios.\n",
    "\n",
    "Debes completar tres pasos. Para cada uno de ellos, escribe una breve introducción que refleje con claridad cómo pretendes resolver cada paso, y escribe párrafos explicatorios que justifiquen tus decisiones al tiempo que avanzas en tu solución.  También escribe una conclusión que resuma tus hallazgos y elecciones.\n"
   ]
  },
  {
   "cell_type": "markdown",
   "id": "3MbyzpOQZ5Or",
   "metadata": {
    "id": "3MbyzpOQZ5Or"
   },
   "source": [
    "## Diccionario de datos\n",
    "\n",
    "Hay cinco tablas en el conjunto de datos, y tendrás que usarlas todas para hacer el preprocesamiento de datos y el análisis exploratorio de datos. A continuación se muestra un diccionario de datos que enumera las columnas de cada tabla y describe los datos que contienen.\n",
    "\n",
    "- `instacart_orders.csv`: cada fila corresponde a un pedido en la aplicación Instacart.\n",
    "    - `'order_id'`: número de ID que identifica de manera única cada pedido.\n",
    "    - `'user_id'`: número de ID que identifica de manera única la cuenta de cada cliente.\n",
    "    - `'order_number'`: el número de veces que este cliente ha hecho un pedido.\n",
    "    - `'order_dow'`: día de la semana en que se hizo el pedido (0 si es domingo).\n",
    "    - `'order_hour_of_day'`: hora del día en que se hizo el pedido.\n",
    "    - `'days_since_prior_order'`: número de días transcurridos desde que este cliente hizo su pedido anterior.\n",
    "- `products.csv`: cada fila corresponde a un producto único que pueden comprar los clientes.\n",
    "    - `'product_id'`: número ID que identifica de manera única cada producto.\n",
    "    - `'product_name'`: nombre del producto.\n",
    "    - `'aisle_id'`: número ID que identifica de manera única cada categoría de pasillo de víveres.\n",
    "    - `'department_id'`: número ID que identifica de manera única cada departamento de víveres.\n",
    "- `order_products.csv`: cada fila corresponde a un artículo pedido en un pedido.\n",
    "    - `'order_id'`: número de ID que identifica de manera única cada pedido.\n",
    "    - `'product_id'`: número ID que identifica de manera única cada producto.\n",
    "    - `'add_to_cart_order'`: el orden secuencial en el que se añadió cada artículo en el carrito.\n",
    "    - `'reordered'`: 0 si el cliente nunca ha pedido este producto antes, 1 si lo ha pedido.\n",
    "- `aisles.csv`\n",
    "    - `'aisle_id'`: número ID que identifica de manera única cada categoría de pasillo de víveres.\n",
    "    - `'aisle'`: nombre del pasillo.\n",
    "- `departments.csv`\n",
    "    - `'department_id'`: número ID que identifica de manera única cada departamento de víveres.\n",
    "    - `'department'`: nombre del departamento."
   ]
  },
  {
   "cell_type": "markdown",
   "id": "n3Ha_cNSZ8lK",
   "metadata": {
    "id": "n3Ha_cNSZ8lK"
   },
   "source": [
    "# Paso 1. Descripción de los datos\n",
    "\n",
    "Lee los archivos de datos (`/datasets/instacart_orders.csv`, `/datasets/products.csv`, `/datasets/aisles.csv`, `/datasets/departments.csv` y `/datasets/order_products.csv`) con `pd.read_csv()` usando los parámetros adecuados para leer los datos correctamente. Verifica la información para cada DataFrame creado.\n"
   ]
  },
  {
   "cell_type": "markdown",
   "id": "OmlQPLlyaAfR",
   "metadata": {
    "id": "OmlQPLlyaAfR"
   },
   "source": [
    "## Plan de solución\n",
    "\n",
    "Escribe aquí tu plan de solución para el Paso 1. Descripción de los datos."
   ]
  },
  {
   "cell_type": "code",
   "execution_count": 55,
   "id": "fbf1adab",
   "metadata": {
    "id": "fbf1adab"
   },
   "outputs": [],
   "source": [
    "# importar librerías\n",
    "import pandas as pd"
   ]
  },
  {
   "cell_type": "code",
   "execution_count": 56,
   "id": "ad36396d",
   "metadata": {
    "id": "ad36396d"
   },
   "outputs": [],
   "source": [
    "# leer conjuntos de datos en los DataFrames\n",
    "df_orders = pd.read_csv('/datasets/instacart_orders.csv', sep= ';')\n",
    "df_products = pd.read_csv('/datasets/products.csv', sep= ';')\n",
    "df_aisles = pd.read_csv('/datasets/aisles.csv',sep= ';')\n",
    "df_departments = pd.read_csv('/datasets/departments.csv',sep= ';')\n",
    "df_order_products = pd.read_csv('/datasets/order_products.csv',sep= ';')"
   ]
  },
  {
   "cell_type": "code",
   "execution_count": 57,
   "id": "ad6a1efa",
   "metadata": {
    "id": "ad6a1efa"
   },
   "outputs": [
    {
     "name": "stdout",
     "output_type": "stream",
     "text": [
      "<class 'pandas.core.frame.DataFrame'>\n",
      "RangeIndex: 478967 entries, 0 to 478966\n",
      "Data columns (total 6 columns):\n",
      " #   Column                  Non-Null Count   Dtype  \n",
      "---  ------                  --------------   -----  \n",
      " 0   order_id                478967 non-null  int64  \n",
      " 1   user_id                 478967 non-null  int64  \n",
      " 2   order_number            478967 non-null  int64  \n",
      " 3   order_dow               478967 non-null  int64  \n",
      " 4   order_hour_of_day       478967 non-null  int64  \n",
      " 5   days_since_prior_order  450148 non-null  float64\n",
      "dtypes: float64(1), int64(5)\n",
      "memory usage: 21.9 MB\n",
      "   order_id  user_id  order_number  order_dow  order_hour_of_day  \\\n",
      "0   1515936   183418            11          6                 13   \n",
      "1   1690866   163593             5          5                 12   \n",
      "2   1454967    39980             4          5                 19   \n",
      "3   1768857    82516            56          0                 20   \n",
      "4   3007858   196724             2          4                 12   \n",
      "\n",
      "   days_since_prior_order  \n",
      "0                    30.0  \n",
      "1                     9.0  \n",
      "2                     2.0  \n",
      "3                    10.0  \n",
      "4                    17.0  \n",
      "Los duplicados son: 15\n"
     ]
    }
   ],
   "source": [
    "# mostrar información del DataFrame\n",
    "df_orders.info()\n",
    "print(df_orders.head()) #para hacerme una ideas mas grafica\n",
    "print(\"Los duplicados son:\",df_orders.duplicated().sum())"
   ]
  },
  {
   "cell_type": "code",
   "execution_count": 58,
   "id": "5130e05e",
   "metadata": {
    "id": "5130e05e"
   },
   "outputs": [
    {
     "name": "stdout",
     "output_type": "stream",
     "text": [
      "<class 'pandas.core.frame.DataFrame'>\n",
      "RangeIndex: 49694 entries, 0 to 49693\n",
      "Data columns (total 4 columns):\n",
      " #   Column         Non-Null Count  Dtype \n",
      "---  ------         --------------  ----- \n",
      " 0   product_id     49694 non-null  int64 \n",
      " 1   product_name   48436 non-null  object\n",
      " 2   aisle_id       49694 non-null  int64 \n",
      " 3   department_id  49694 non-null  int64 \n",
      "dtypes: int64(3), object(1)\n",
      "memory usage: 1.5+ MB\n",
      "   product_id                                       product_name  aisle_id  \\\n",
      "0           1                         Chocolate Sandwich Cookies        61   \n",
      "1           2                                   All-Seasons Salt       104   \n",
      "2           3               Robust Golden Unsweetened Oolong Tea        94   \n",
      "3           4  Smart Ones Classic Favorites Mini Rigatoni Wit...        38   \n",
      "4           5                          Green Chile Anytime Sauce         5   \n",
      "\n",
      "   department_id  \n",
      "0             19  \n",
      "1             13  \n",
      "2              7  \n",
      "3              1  \n",
      "4             13  \n",
      "Los duplicados son: 0\n"
     ]
    }
   ],
   "source": [
    "# mostrar información del DataFrame\n",
    "df_products.info()\n",
    "print(df_products.head())\n",
    "print(\"Los duplicados son:\", df_products.duplicated().sum())"
   ]
  },
  {
   "cell_type": "code",
   "execution_count": 59,
   "id": "d8370c05",
   "metadata": {
    "id": "d8370c05"
   },
   "outputs": [
    {
     "name": "stdout",
     "output_type": "stream",
     "text": [
      "<class 'pandas.core.frame.DataFrame'>\n",
      "RangeIndex: 134 entries, 0 to 133\n",
      "Data columns (total 2 columns):\n",
      " #   Column    Non-Null Count  Dtype \n",
      "---  ------    --------------  ----- \n",
      " 0   aisle_id  134 non-null    int64 \n",
      " 1   aisle     134 non-null    object\n",
      "dtypes: int64(1), object(1)\n",
      "memory usage: 2.2+ KB\n",
      "   aisle_id                       aisle\n",
      "0         1       prepared soups salads\n",
      "1         2           specialty cheeses\n",
      "2         3         energy granola bars\n",
      "3         4               instant foods\n",
      "4         5  marinades meat preparation\n",
      "Los duplicados son: 0\n"
     ]
    }
   ],
   "source": [
    "# mostrar información del DataFrame\n",
    "df_aisles.info()\n",
    "print(df_aisles.head())\n",
    "print(\"Los duplicados son:\", df_aisles.duplicated().sum())"
   ]
  },
  {
   "cell_type": "code",
   "execution_count": 60,
   "id": "59e2090f",
   "metadata": {
    "id": "59e2090f"
   },
   "outputs": [
    {
     "name": "stdout",
     "output_type": "stream",
     "text": [
      "<class 'pandas.core.frame.DataFrame'>\n",
      "RangeIndex: 21 entries, 0 to 20\n",
      "Data columns (total 2 columns):\n",
      " #   Column         Non-Null Count  Dtype \n",
      "---  ------         --------------  ----- \n",
      " 0   department_id  21 non-null     int64 \n",
      " 1   department     21 non-null     object\n",
      "dtypes: int64(1), object(1)\n",
      "memory usage: 464.0+ bytes\n",
      "   department_id department\n",
      "0              1     frozen\n",
      "1              2      other\n",
      "2              3     bakery\n",
      "3              4    produce\n",
      "4              5    alcohol\n",
      "Los duplicados son: 0\n"
     ]
    }
   ],
   "source": [
    "# mostrar información del DataFrame\n",
    "df_departments.info()\n",
    "print(df_departments.head())\n",
    "print(\"Los duplicados son:\", df_departments.duplicated().sum())"
   ]
  },
  {
   "cell_type": "code",
   "execution_count": 61,
   "id": "6fc81694",
   "metadata": {
    "id": "6fc81694"
   },
   "outputs": [
    {
     "name": "stdout",
     "output_type": "stream",
     "text": [
      "<class 'pandas.core.frame.DataFrame'>\n",
      "RangeIndex: 4545007 entries, 0 to 4545006\n",
      "Data columns (total 4 columns):\n",
      " #   Column             Non-Null Count    Dtype  \n",
      "---  ------             --------------    -----  \n",
      " 0   order_id           4545007 non-null  int64  \n",
      " 1   product_id         4545007 non-null  int64  \n",
      " 2   add_to_cart_order  4544171 non-null  float64\n",
      " 3   reordered          4545007 non-null  int64  \n",
      "dtypes: float64(1), int64(3)\n",
      "memory usage: 138.7 MB\n",
      "   order_id  product_id  add_to_cart_order  reordered\n",
      "0   2141543       11440               17.0          0\n",
      "1    567889        1560                1.0          1\n",
      "2   2261212       26683                1.0          1\n",
      "3    491251        8670               35.0          1\n",
      "4   2571142        1940                5.0          1\n",
      "Los duplicados son: 0\n"
     ]
    }
   ],
   "source": [
    "# mostrar información del DataFrame\n",
    "df_order_products.info(show_counts=True)\n",
    "print(df_order_products.head())\n",
    "print(\"Los duplicados son:\", df_order_products.duplicated().sum())"
   ]
  },
  {
   "cell_type": "markdown",
   "id": "t75BD19oaR5f",
   "metadata": {
    "id": "t75BD19oaR5f"
   },
   "source": [
    "## Conclusiones\n",
    "\n",
    "En el archivo de 'instacart_orders.csv', hay solo una columna que tiene valores ausentes: \"days_since_prior_order\" tiene valores ausentes y tras del hecho maneja enteros pero el Dtype es float64. Tiene 15 duplicados. Los ID se manejan como enteros.\n",
    "\n",
    "En el archivo 'products.csv', tambien hay solo una columna con valors nulos: \"product_name\" tiene valores ausentes. Los ID se manejan como enteros.\n",
    "\n",
    "En el archivo 'aisles.csv', el ID tambien se maneja como entero.\n",
    "\n",
    "En el archivo 'departments.csv',  el ID tambien se maneja como entero.\n",
    "\n",
    "en el archivo 'order_products.csv', hay solo una columna con valores nulos: \"add_to_cart_order\" tiene valores ausentes; se maneja como float64, cuando se puede manejar como entero. \"reordered\" se esta manejando como int64 cuando puede manejarse como booleano; en principio no habria problema."
   ]
  },
  {
   "cell_type": "markdown",
   "id": "4f9a324a-751d-47a8-9de1-f5dcf76ef6c4",
   "metadata": {},
   "source": [
    "<div class=\"alert alert-block alert-success\">\n",
    "<b>Comentario del revisor (1ra Iteración)</b> <a class=“tocSkip”></a>\n",
    "\n",
    "Muy buen trabajo importando las librerías y los datos del proyecto. Adicionalmente usaste correctamente las funciones `info` y `head`, esto te permite hacer una primera revisión de los datos, su estructura y contenido.\n",
    "\n",
    "Además hiciste un buen trabajo comprobando la presencia de datos duplicados, esto es clave para verificar la integridad del dataset y evitar sesgos o errores al momento de analizar los datos\n",
    "\n",
    "\n",
    "</div>"
   ]
  },
  {
   "cell_type": "markdown",
   "id": "8RJHqxVmaVsF",
   "metadata": {
    "id": "8RJHqxVmaVsF"
   },
   "source": [
    "# Paso 2. Preprocesamiento de los datos\n",
    "\n",
    "Preprocesa los datos de la siguiente manera:\n",
    "\n",
    "- Verifica y corrige los tipos de datos (por ejemplo, asegúrate de que las columnas de ID sean números enteros).\n",
    "- Identifica y completa los valores ausentes.\n",
    "- Identifica y elimina los valores duplicados.\n",
    "\n",
    "Asegúrate de explicar qué tipos de valores ausentes y duplicados encontraste, cómo los completaste o eliminaste y por qué usaste esos métodos. ¿Por qué crees que estos valores ausentes y duplicados pueden haber estado presentes en el conjunto de datos?"
   ]
  },
  {
   "cell_type": "markdown",
   "id": "p6poABZQaZYb",
   "metadata": {
    "id": "p6poABZQaZYb",
    "jp-MarkdownHeadingCollapsed": true
   },
   "source": [
    "## Plan de solución\n",
    "\n",
    "Escribe aquí tu plan para el Paso 2. Preprocesamiento de los datos."
   ]
  },
  {
   "cell_type": "markdown",
   "id": "07357848-dc64-4156-9cc3-01ff4365226d",
   "metadata": {
    "id": "07357848-dc64-4156-9cc3-01ff4365226d"
   },
   "source": [
    "## Encuentra y elimina los valores duplicados (y describe cómo tomaste tus decisiones)."
   ]
  },
  {
   "cell_type": "markdown",
   "id": "f179f0a9",
   "metadata": {
    "id": "f179f0a9"
   },
   "source": [
    "### `orders` data frame"
   ]
  },
  {
   "cell_type": "code",
   "execution_count": 62,
   "id": "b99297a5-405a-463d-8535-9adc3da4ad74",
   "metadata": {
    "id": "b99297a5-405a-463d-8535-9adc3da4ad74"
   },
   "outputs": [
    {
     "name": "stdout",
     "output_type": "stream",
     "text": [
      "Los pedidos duplicados son: 15\n"
     ]
    }
   ],
   "source": [
    "# Revisa si hay pedidos duplicados\n",
    "print(\"Los pedidos duplicados son:\",df_orders.duplicated().sum())"
   ]
  },
  {
   "cell_type": "markdown",
   "id": "PEkwUX_gvt5A",
   "metadata": {
    "id": "PEkwUX_gvt5A"
   },
   "source": [
    "¿Tienes líneas duplicadas? Si sí, ¿qué tienen en común?"
   ]
  },
  {
   "cell_type": "code",
   "execution_count": 63,
   "id": "0d44de5d",
   "metadata": {
    "id": "0d44de5d"
   },
   "outputs": [
    {
     "name": "stdout",
     "output_type": "stream",
     "text": [
      "        order_id  user_id  order_number  order_dow  order_hour_of_day  \\\n",
      "4838     2766110   162084            41          3                  2   \n",
      "5156     2190225   138285            18          3                  2   \n",
      "15506     553049    58599            13          3                  2   \n",
      "18420     382357   120200            19          3                  2   \n",
      "24691     690242    77357             2          3                  2   \n",
      "...          ...      ...           ...        ...                ...   \n",
      "457013   3384021    14881             6          3                  2   \n",
      "458816    910166   164782            18          3                  2   \n",
      "459635   1680532   106435             6          3                  2   \n",
      "468324    222962    54979            59          3                  2   \n",
      "477526   2592344    46860            38          3                  2   \n",
      "\n",
      "        days_since_prior_order  \n",
      "4838                      16.0  \n",
      "5156                      11.0  \n",
      "15506                      7.0  \n",
      "18420                     11.0  \n",
      "24691                      9.0  \n",
      "...                        ...  \n",
      "457013                    30.0  \n",
      "458816                     4.0  \n",
      "459635                    21.0  \n",
      "468324                     3.0  \n",
      "477526                     3.0  \n",
      "\n",
      "[121 rows x 6 columns]\n"
     ]
    },
    {
     "data": {
      "text/plain": [
       "15"
      ]
     },
     "execution_count": 63,
     "metadata": {},
     "output_type": "execute_result"
    }
   ],
   "source": [
    "# Basándote en tus hallazgos,\n",
    "# Verifica todos los pedidos que se hicieron el miércoles a las 2:00 a.m.\n",
    "pedidos_2am = df_orders[(df_orders['order_dow']==3)&(df_orders['order_hour_of_day']==2)]\n",
    "print(pedidos_2am)\n",
    "pedidos_2am.duplicated().sum()"
   ]
  },
  {
   "cell_type": "markdown",
   "id": "vu2OWyoqwOx5",
   "metadata": {
    "id": "vu2OWyoqwOx5"
   },
   "source": [
    "¿Qué sugiere este resultado?"
   ]
  },
  {
   "cell_type": "markdown",
   "id": "d3483583-ac02-4e00-9fde-f3e0be0a52bf",
   "metadata": {},
   "source": [
    "En el filtrado del DF que realicé, existen 15 duplicados, los cuales se eliminaran para que no afecte el resultado del analisis."
   ]
  },
  {
   "cell_type": "code",
   "execution_count": 64,
   "id": "480563c7",
   "metadata": {
    "id": "480563c7"
   },
   "outputs": [
    {
     "name": "stderr",
     "output_type": "stream",
     "text": [
      "/tmp/ipykernel_427/2135552940.py:2: SettingWithCopyWarning: \n",
      "A value is trying to be set on a copy of a slice from a DataFrame\n",
      "\n",
      "See the caveats in the documentation: https://pandas.pydata.org/pandas-docs/stable/user_guide/indexing.html#returning-a-view-versus-a-copy\n",
      "  pedidos_2am.drop_duplicates(inplace=True)\n"
     ]
    }
   ],
   "source": [
    "# Elimina los pedidos duplicados\n",
    "pedidos_2am.drop_duplicates(inplace=True)"
   ]
  },
  {
   "cell_type": "code",
   "execution_count": 65,
   "id": "0b2396a2",
   "metadata": {
    "id": "0b2396a2"
   },
   "outputs": [
    {
     "data": {
      "text/plain": [
       "0"
      ]
     },
     "execution_count": 65,
     "metadata": {},
     "output_type": "execute_result"
    }
   ],
   "source": [
    "# Vuelve a verificar si hay filas duplicadas\n",
    "pedidos_2am.duplicated().sum()"
   ]
  },
  {
   "cell_type": "code",
   "execution_count": 66,
   "id": "f6113ef1",
   "metadata": {
    "id": "f6113ef1"
   },
   "outputs": [
    {
     "data": {
      "text/plain": [
       "0"
      ]
     },
     "execution_count": 66,
     "metadata": {},
     "output_type": "execute_result"
    }
   ],
   "source": [
    "# Vuelve a verificar únicamente si hay IDs duplicados de pedidos\n",
    "pedidos_2am['user_id'].duplicated().sum()"
   ]
  },
  {
   "cell_type": "markdown",
   "id": "5e8905ae",
   "metadata": {
    "id": "5e8905ae"
   },
   "source": [
    "Describe brevemente tus hallazgos y lo que hiciste con ellos"
   ]
  },
  {
   "cell_type": "markdown",
   "id": "aff3a45e-f8d0-438a-94c0-20974c53cb41",
   "metadata": {},
   "source": [
    "En el DF sin filtrar habian 15 valores duplicados, realizando las indicaciones del sprint 4 y el paso 2, filtre el DF original y en el filtrado encontre las 15 filas duplicadas, entonces elimine las filas duplicadas con .dorp_duplicates() y para no crear un nueva variable use el parametro inplace=True dentro del argumento. Finalmente confirme si se encuentran valores duplicados."
   ]
  },
  {
   "cell_type": "markdown",
   "id": "45e6bc46",
   "metadata": {
    "id": "45e6bc46"
   },
   "source": [
    "### `products` data frame"
   ]
  },
  {
   "cell_type": "code",
   "execution_count": 67,
   "id": "5f526b5b-8175-46fa-a0fd-441767d50e64",
   "metadata": {
    "id": "5f526b5b-8175-46fa-a0fd-441767d50e64"
   },
   "outputs": [
    {
     "name": "stdout",
     "output_type": "stream",
     "text": [
      "<class 'pandas.core.frame.DataFrame'>\n",
      "RangeIndex: 49694 entries, 0 to 49693\n",
      "Data columns (total 4 columns):\n",
      " #   Column         Non-Null Count  Dtype \n",
      "---  ------         --------------  ----- \n",
      " 0   product_id     49694 non-null  int64 \n",
      " 1   product_name   48436 non-null  object\n",
      " 2   aisle_id       49694 non-null  int64 \n",
      " 3   department_id  49694 non-null  int64 \n",
      "dtypes: int64(3), object(1)\n",
      "memory usage: 1.5+ MB\n"
     ]
    }
   ],
   "source": [
    "# Verifica si hay filas totalmente duplicadas\n",
    "df_products.duplicated().sum()\n",
    "df_products.info()\n"
   ]
  },
  {
   "cell_type": "code",
   "execution_count": 68,
   "id": "88daa4f4",
   "metadata": {
    "id": "88daa4f4"
   },
   "outputs": [
    {
     "name": "stdout",
     "output_type": "stream",
     "text": [
      "0\n"
     ]
    }
   ],
   "source": [
    "# Revisa únicamente si hay ID de productos duplicados\n",
    "print(df_products['product_id'].duplicated().sum())"
   ]
  },
  {
   "cell_type": "code",
   "execution_count": 69,
   "id": "c773f0bf",
   "metadata": {
    "id": "c773f0bf"
   },
   "outputs": [
    {
     "data": {
      "text/plain": [
       "0"
      ]
     },
     "execution_count": 69,
     "metadata": {},
     "output_type": "execute_result"
    }
   ],
   "source": [
    "# Revisa únicamente si hay nombres duplicados de productos (convierte los nombres a letras mayúsculas para compararlos mejor)\n",
    "df_products['product_name'] = df_products['product_name'].str.upper()\n",
    "df_products.duplicated().sum()\n"
   ]
  },
  {
   "cell_type": "code",
   "execution_count": 70,
   "id": "01efd02e",
   "metadata": {
    "id": "01efd02e"
   },
   "outputs": [
    {
     "data": {
      "text/plain": [
       "1361"
      ]
     },
     "execution_count": 70,
     "metadata": {},
     "output_type": "execute_result"
    }
   ],
   "source": [
    "# Revisa si hay nombres duplicados de productos no faltantes\n",
    "df_products['product_name'].duplicated().sum()\n"
   ]
  },
  {
   "cell_type": "markdown",
   "id": "9da8d293",
   "metadata": {
    "id": "9da8d293"
   },
   "source": [
    "Describe brevemente tus hallazgos y lo que hiciste con ellos."
   ]
  },
  {
   "cell_type": "markdown",
   "id": "f9e54a19-baf3-4571-b85b-df3e890a74dc",
   "metadata": {},
   "source": [
    "En principio, como no se repetian las filas y al usar el metodo .duplicated() imprimia una respuesta de cero, se piensa que no hay datos duplicados, sin embargo, al ir realizando el ejercicio segun como lo piden, se evidencia que los nombres de los productos estan repetidos, pero como su id no lo esta, el metodo utilizado no lo cuenta como fila duplicada. Posteriormente, de ser necesario, se pueden eliminar los nombres duplicados."
   ]
  },
  {
   "cell_type": "markdown",
   "id": "60f30db1",
   "metadata": {
    "id": "60f30db1"
   },
   "source": [
    "### `departments` data frame"
   ]
  },
  {
   "cell_type": "code",
   "execution_count": 71,
   "id": "fb410ad4-0fbf-4b80-bb09-23fdea79afe3",
   "metadata": {
    "id": "fb410ad4-0fbf-4b80-bb09-23fdea79afe3"
   },
   "outputs": [
    {
     "data": {
      "text/plain": [
       "0"
      ]
     },
     "execution_count": 71,
     "metadata": {},
     "output_type": "execute_result"
    }
   ],
   "source": [
    "# Revisa si hay filas totalmente duplicadas\n",
    "df_departments.duplicated().sum()\n"
   ]
  },
  {
   "cell_type": "code",
   "execution_count": 72,
   "id": "332b12bb",
   "metadata": {
    "id": "332b12bb"
   },
   "outputs": [
    {
     "data": {
      "text/plain": [
       "0"
      ]
     },
     "execution_count": 72,
     "metadata": {},
     "output_type": "execute_result"
    }
   ],
   "source": [
    "# Revisa únicamente si hay IDs duplicadas de departamentos\n",
    "df_departments['department_id'].duplicated().sum()"
   ]
  },
  {
   "cell_type": "markdown",
   "id": "bd30d78e",
   "metadata": {
    "id": "bd30d78e"
   },
   "source": [
    "Describe brevemente tus hallazgos y lo que hiciste con ellos."
   ]
  },
  {
   "cell_type": "markdown",
   "id": "f5ba1e21-c919-4d82-b4f4-0ae88f256634",
   "metadata": {},
   "source": [
    "Unicamente se usaron dos metodos, el metodo .duplicated() el cual revisa si las filas estan duplicadas generando un booleano y despues se uso .sum(), el cual suma todos los valores True de el df. Al no haber filas repetidas, el valor final es cero."
   ]
  },
  {
   "cell_type": "markdown",
   "id": "889349c1",
   "metadata": {
    "id": "889349c1"
   },
   "source": [
    "### `aisles` data frame"
   ]
  },
  {
   "cell_type": "code",
   "execution_count": 73,
   "id": "9da89fb9-4679-40f5-ad0d-c34df753a3f8",
   "metadata": {
    "id": "9da89fb9-4679-40f5-ad0d-c34df753a3f8"
   },
   "outputs": [
    {
     "data": {
      "text/plain": [
       "0"
      ]
     },
     "execution_count": 73,
     "metadata": {},
     "output_type": "execute_result"
    }
   ],
   "source": [
    "# Revisa si hay filas totalmente duplicadas\n",
    "df_aisles.duplicated().sum()"
   ]
  },
  {
   "cell_type": "code",
   "execution_count": 74,
   "id": "da7c2822",
   "metadata": {
    "id": "da7c2822"
   },
   "outputs": [
    {
     "data": {
      "text/plain": [
       "0"
      ]
     },
     "execution_count": 74,
     "metadata": {},
     "output_type": "execute_result"
    }
   ],
   "source": [
    "# Revisa únicamente si hay IDs duplicadas de pasillos\n",
    "df_aisles['aisle_id'].duplicated().sum()"
   ]
  },
  {
   "cell_type": "markdown",
   "id": "ac63826f",
   "metadata": {
    "id": "ac63826f"
   },
   "source": [
    "Describe brevemente tus hallazgos y lo que hiciste con ellos."
   ]
  },
  {
   "cell_type": "markdown",
   "id": "f49e08b9-e744-4f13-a564-6fb4c172401b",
   "metadata": {},
   "source": [
    "Unicamente se usaron dos metodos, el metodo .duplicated() el cual revisa si las filas estan duplicadas generando un booleano y despues se uso .sum(), el cual suma todos los valores True de el df. Al no haber filas repetidas, el valor final es cero."
   ]
  },
  {
   "cell_type": "markdown",
   "id": "274cd06a",
   "metadata": {
    "id": "274cd06a"
   },
   "source": [
    "### `order_products` data frame"
   ]
  },
  {
   "cell_type": "code",
   "execution_count": 75,
   "id": "52326689-84a8-4b8f-a881-7c68780f62c9",
   "metadata": {
    "id": "52326689-84a8-4b8f-a881-7c68780f62c9"
   },
   "outputs": [
    {
     "data": {
      "text/plain": [
       "0"
      ]
     },
     "execution_count": 75,
     "metadata": {},
     "output_type": "execute_result"
    }
   ],
   "source": [
    "# Revisa si hay filas totalmente duplicadas\n",
    "df_order_products.duplicated().sum()"
   ]
  },
  {
   "cell_type": "code",
   "execution_count": 76,
   "id": "7b861391",
   "metadata": {
    "id": "7b861391"
   },
   "outputs": [
    {
     "data": {
      "text/plain": [
       "0"
      ]
     },
     "execution_count": 76,
     "metadata": {},
     "output_type": "execute_result"
    }
   ],
   "source": [
    "# Vuelve a verificar si hay cualquier otro duplicado engañoso\n",
    "df_order_products[['order_id','product_id']].duplicated().sum()"
   ]
  },
  {
   "cell_type": "markdown",
   "id": "0b890492",
   "metadata": {
    "id": "0b890492"
   },
   "source": [
    "Describe brevemente tus hallazgos y lo que hiciste con ellos."
   ]
  },
  {
   "cell_type": "markdown",
   "id": "1f93d6cb-f534-4971-8a32-ac976c95a06f",
   "metadata": {},
   "source": [
    "Si el DF era solo filtrado por 'order_id' se repetia el order_id de un diferente producto en el mismo pedido; si era filtrado por 'product_id', se repetian todos los productos, pues hay muchsisimos mas pedidos que productos. Lo que se realizo fue un filtrado por pedido y producto, asi se confirma que no hayan filas repetidas.\n",
    "Unicamente se usaron dos metodos, el metodo .duplicated() el cual revisa si las filas estan duplicadas generando un booleano y despues se uso .sum(), el cual suma todos los valores True de el df. Al no haber filas repetidas, el valor final es cero."
   ]
  },
  {
   "cell_type": "markdown",
   "id": "cbbc32b7-e1c4-4be1-85be-b123c685e93a",
   "metadata": {},
   "source": [
    "<div class=\"alert alert-block alert-success\">\n",
    "<b>Comentario del revisor (1ra Iteración)</b> <a class=“tocSkip”></a>\n",
    "\n",
    "Muy buen trabajo al identificar y eliminar los datos duplicados. Esto ayuda a evitar sesgos, mejora la calidad del análisis y hace que los modelos sean más precisos. Además, trabajar con datos limpios facilita la interpretación y el uso eficiente de los recursos. \n",
    "\n",
    "</div>"
   ]
  },
  {
   "cell_type": "markdown",
   "id": "1e46de76",
   "metadata": {
    "id": "1e46de76"
   },
   "source": [
    "## Encuentra y elimina los valores ausentes\n",
    "\n",
    "Al trabajar con valores duplicados, pudimos observar que también nos falta investigar valores ausentes:\n",
    "\n",
    "* La columna `'product_name'` de la tabla products.\n",
    "* La columna `'days_since_prior_order'` de la tabla orders.\n",
    "* La columna `'add_to_cart_order'` de la tabla order_productos."
   ]
  },
  {
   "cell_type": "markdown",
   "id": "c0aebd78",
   "metadata": {
    "id": "c0aebd78"
   },
   "source": [
    "### `products` data frame"
   ]
  },
  {
   "cell_type": "code",
   "execution_count": 77,
   "id": "fe4a8b0f",
   "metadata": {
    "id": "fe4a8b0f"
   },
   "outputs": [
    {
     "name": "stdout",
     "output_type": "stream",
     "text": [
      "product_id          0\n",
      "product_name     1258\n",
      "aisle_id            0\n",
      "department_id       0\n",
      "dtype: int64\n",
      "\n",
      "100    1258\n",
      "45     1246\n",
      "37     1091\n",
      "47     1038\n",
      "120    1026\n",
      "       ... \n",
      "113      47\n",
      "82       44\n",
      "32       32\n",
      "68       26\n",
      "18       12\n",
      "Name: aisle_id, Length: 134, dtype: int64\n"
     ]
    }
   ],
   "source": [
    "# Encuentra los valores ausentes en la columna 'product_name'\n",
    "print(df_products.isna().sum())#valores nulos\n",
    "print()#estetica\n",
    "product_counts = df_products['aisle_id'].value_counts()#contar valores\n",
    "print(product_counts)"
   ]
  },
  {
   "cell_type": "markdown",
   "id": "-A6x1AbJhjkp",
   "metadata": {
    "id": "-A6x1AbJhjkp"
   },
   "source": [
    "Describe brevemente cuáles son tus hallazgos."
   ]
  },
  {
   "cell_type": "markdown",
   "id": "ba1e35e0-821f-43fe-a459-b4139b004e35",
   "metadata": {},
   "source": [
    "Encontre que hay 1258 valores ausentes en la columna 'poduct_name' gracias a el metodo .isna() junto con el metodo.sum(). ¿se debene de eliminar? primero hay que averiguar mas acerca de ellos. ¿de donde son? Gracias a .value_counts() se sabe que todos los valores ausentes provienen del pasillo 100, pues los valores ausentes coinsiden con el numero de de veces que se repite el pasillo 100."
   ]
  },
  {
   "cell_type": "code",
   "execution_count": 78,
   "id": "e96167bc",
   "metadata": {
    "id": "e96167bc"
   },
   "outputs": [
    {
     "name": "stdout",
     "output_type": "stream",
     "text": [
      "       product_id product_name  aisle_id  department_id\n",
      "4849         4850          NaN       100             21\n",
      "40608       40609          NaN       100             21\n",
      "8249         8250          NaN       100             21\n",
      "29770       29771          NaN       100             21\n",
      "49663       49664          NaN       100             21\n",
      "11245       11246          NaN       100             21\n",
      "17064       17065          NaN       100             21\n",
      "45421       45422          NaN       100             21\n",
      "13673       13674          NaN       100             21\n",
      "15676       15677          NaN       100             21\n",
      "9040         9041          NaN       100             21\n",
      "12235       12236          NaN       100             21\n"
     ]
    }
   ],
   "source": [
    "#  ¿Todos los nombres de productos ausentes están relacionados con el pasillo con ID 100?\n",
    "prod_null = df_products.loc[df_products['aisle_id']==100] #filtrado de el pasillo 100\n",
    "print(prod_null.sample(12)) # muestra aleatoria para confirmar"
   ]
  },
  {
   "cell_type": "markdown",
   "id": "WRpIfXRphpSL",
   "metadata": {
    "id": "WRpIfXRphpSL"
   },
   "source": [
    "Describe brevemente cuáles son tus hallazgos."
   ]
  },
  {
   "cell_type": "markdown",
   "id": "9e434fa6-b7f8-4016-8721-cf40cbe9dad9",
   "metadata": {},
   "source": [
    "Despues de filtrar el DF con .loc[], confirmo que todos los productos del pasillo 100 tienen un valor ausente y que tambien se repite el departamento 21"
   ]
  },
  {
   "cell_type": "code",
   "execution_count": 79,
   "id": "8fd0a541",
   "metadata": {
    "id": "8fd0a541"
   },
   "outputs": [
    {
     "name": "stdout",
     "output_type": "stream",
     "text": [
      "       product_id product_name  aisle_id  department_id\n",
      "33262       33263          NaN       100             21\n",
      "4419         4420          NaN       100             21\n",
      "41303       41304          NaN       100             21\n",
      "42068       42069          NaN       100             21\n",
      "15425       15426          NaN       100             21\n",
      "8692         8693          NaN       100             21\n",
      "45913       45914          NaN       100             21\n",
      "12951       12952          NaN       100             21\n",
      "30562       30563          NaN       100             21\n",
      "71             72          NaN       100             21\n",
      "30931       30932          NaN       100             21\n",
      "9705         9706          NaN       100             21\n"
     ]
    }
   ],
   "source": [
    "# ¿Todos los nombres de productos ausentes están relacionados con el departamento con ID 21?\n",
    "dept_null = df_products.loc[df_products['department_id']==21] #filtrado de el pasillo 100\n",
    "print(dept_null.sample(12)) # muestra aleatoria para confirmar"
   ]
  },
  {
   "cell_type": "markdown",
   "id": "qDpdYn1Fht_I",
   "metadata": {
    "id": "qDpdYn1Fht_I"
   },
   "source": [
    "Describe brevemente cuáles son tus hallazgos."
   ]
  },
  {
   "cell_type": "markdown",
   "id": "649b14e0-ea78-44f2-a4f4-e80b6d0d5eee",
   "metadata": {},
   "source": [
    "El departamento 21 en el pasillo 100 tiene 1258 datos ausentes"
   ]
  },
  {
   "cell_type": "code",
   "execution_count": 80,
   "id": "325c3464",
   "metadata": {
    "id": "325c3464"
   },
   "outputs": [
    {
     "data": {
      "text/plain": [
       "True"
      ]
     },
     "execution_count": 80,
     "metadata": {},
     "output_type": "execute_result"
    }
   ],
   "source": [
    "# Usa las tablas department y aisle para revisar los datos del pasillo con ID 100 y el departamento con ID 21.\n",
    "prod_null.equals(dept_null)"
   ]
  },
  {
   "cell_type": "markdown",
   "id": "nqhSTUPhhvEJ",
   "metadata": {
    "id": "nqhSTUPhhvEJ"
   },
   "source": [
    "Describe brevemente cuáles son tus hallazgos."
   ]
  },
  {
   "cell_type": "markdown",
   "id": "d8805572-8541-4b01-9455-8f6ebfac6389",
   "metadata": {},
   "source": [
    "Despues de filtrar las dos tablas del DF original, obtube dos tablas con coincidencias, sin embargo no se puede estar seguro del todo, por ello use el metodo .equals() el cual compara las dos tablas que se le proporcionan y brinda un valor booleano. En caso de que diera False, usaria el metodo .merge(how='outer') y buscaria si hay datos ausentes en las columnas 'department_id' y en 'aisle_id'. "
   ]
  },
  {
   "cell_type": "code",
   "execution_count": 81,
   "id": "6b295120",
   "metadata": {
    "id": "6b295120"
   },
   "outputs": [
    {
     "data": {
      "text/plain": [
       "Unknown                                                           1258\n",
       "GREEN TEA WITH GINSENG AND HONEY                                     3\n",
       "BLANC DE NOIRS                                                       2\n",
       "FLAT FILLETS OF ANCHOVIES IN PURE OLIVE OIL                          2\n",
       "FAMILY SIZE LASAGNA WITH MEAT & SAUCE                                2\n",
       "                                                                  ... \n",
       "GRANITE WIPES                                                        1\n",
       "HOMESTLYE CORNBREAD STUFFING                                         1\n",
       "GOLDFISH COLORS CHEDDAR BAKED SNACK CRACKERS                         1\n",
       "CHOCOLATE CREME TWINKIE                                              1\n",
       "ULTRABRITE ALL-IN-ONE ADVANCED WHITENING CLEAN MINT TOOTHPASTE       1\n",
       "Name: product_name, Length: 48333, dtype: int64"
      ]
     },
     "execution_count": 81,
     "metadata": {},
     "output_type": "execute_result"
    }
   ],
   "source": [
    "# Completa los nombres de productos ausentes con 'Unknown'\n",
    "#df_products_no_nan = df_products['product_name'].fillna(value=\"Unknown\")\n",
    "df_products['product_name'].fillna(value=\"Unknown\",inplace=True)\n",
    "#print(df_products_no_nan.value_counts())    #   \n",
    "df_products['product_name'].value_counts() # Los renglones comentados hacen lo mismo pero con un paso adicional."
   ]
  },
  {
   "cell_type": "markdown",
   "id": "fc70e5ad",
   "metadata": {
    "id": "fc70e5ad"
   },
   "source": [
    "Describe brevemente tus hallazgos y lo que hiciste con ellos."
   ]
  },
  {
   "cell_type": "markdown",
   "id": "efdc10c1-4ade-4438-baba-2c39b780b1ff",
   "metadata": {},
   "source": [
    "En vista de que los valores ausentes solo estaban en la columna de 'product_name', solo tome esa columna y cambie 'NaN' por 'Unknown' creando un nuevo DF. Sin embargo tambien hubiera podido cambiarlo en el DF original con inplace=True."
   ]
  },
  {
   "cell_type": "markdown",
   "id": "7eb45c86",
   "metadata": {
    "id": "7eb45c86"
   },
   "source": [
    "### `orders` data frame"
   ]
  },
  {
   "cell_type": "code",
   "execution_count": 82,
   "id": "93e41d96",
   "metadata": {
    "id": "93e41d96"
   },
   "outputs": [
    {
     "name": "stdout",
     "output_type": "stream",
     "text": [
      "order_id                      0\n",
      "user_id                       0\n",
      "order_number                  0\n",
      "order_dow                     0\n",
      "order_hour_of_day             0\n",
      "days_since_prior_order    28819\n",
      "dtype: int64\n",
      "0     51338\n",
      "1     44579\n",
      "2     33931\n",
      "3     31007\n",
      "4     30225\n",
      "5     30096\n",
      "6     27141\n",
      "7     25361\n",
      "8     20179\n",
      "9     16754\n",
      "10    13992\n",
      "11    13310\n",
      "12    11737\n",
      "13    11467\n",
      "14    10658\n",
      "15     9589\n",
      "16     9416\n",
      "17     6588\n",
      "18     6448\n",
      "19     5498\n",
      "20     5302\n",
      "21     4972\n",
      "22     4939\n",
      "23     4514\n",
      "24     3745\n",
      "25     3337\n",
      "26     3015\n",
      "27     2986\n",
      "28     2711\n",
      "29     2673\n",
      "30     2640\n",
      "Name: days_since_prior_order, dtype: int64\n",
      "\n",
      "28819\n"
     ]
    }
   ],
   "source": [
    "# Encuentra los valores ausentes\n",
    "print(df_orders.isna().sum())\n",
    "product_counts_1 = df_orders['days_since_prior_order'].value_counts().reset_index()  \n",
    "print(product_counts_1['days_since_prior_order'])\n",
    "print()\n",
    "print((df_orders['order_dow'].value_counts().sum())-(product_counts_1['days_since_prior_order'].sum()))\n",
    "#el ultimo print confirma que los valores ausentes solo son el primer pedido\n",
    "#Tomo una columna cualquiera, cuento los valores totale de la columna. Hago lo mismo con la columna 'days_since_prior_order'\n",
    "#Al final resto los dos valores y la diferencia son los valores ausentes. "
   ]
  },
  {
   "cell_type": "code",
   "execution_count": 83,
   "id": "166e5a86",
   "metadata": {
    "id": "166e5a86"
   },
   "outputs": [
    {
     "data": {
      "text/plain": [
       "order_id                  0\n",
       "user_id                   0\n",
       "order_number              0\n",
       "order_dow                 0\n",
       "order_hour_of_day         0\n",
       "days_since_prior_order    0\n",
       "dtype: int64"
      ]
     },
     "execution_count": 83,
     "metadata": {},
     "output_type": "execute_result"
    }
   ],
   "source": [
    "# ¿Hay algún valor ausente que no sea el primer pedido del cliente?\n",
    "df_order_no_nan = df_orders.loc[df_orders['days_since_prior_order']>= 0]\n",
    "df_order_no_nan.isna().sum()"
   ]
  },
  {
   "cell_type": "markdown",
   "id": "4e23d089",
   "metadata": {
    "id": "4e23d089"
   },
   "source": [
    "Describe brevemente tus hallazgos y lo que hiciste con ellos."
   ]
  },
  {
   "cell_type": "markdown",
   "id": "d0b977b9-86f9-436f-a112-1bb20e87174a",
   "metadata": {},
   "source": [
    "Al principio encuentro 28819 datos ausentes, luego, al filtrar el DF con valores mayores o iguales a 1 ya no aparecen valores ausentes. Confirmo que los unicos valores ausentes son el primer pedido que realiza el cliente, pues, comose ve en el primer cuadro de codigo, hay la misma cantidad de valores ausentes. El indice tiene 31 valores, 31 dias del mes, de los cuales, si se suman todos los valores de todos esos dias y lo resto con una columna sin valores nulos, da 28819, o sea, lo mismo que los valores ausentes."
   ]
  },
  {
   "cell_type": "markdown",
   "id": "69dc9ca4",
   "metadata": {
    "id": "69dc9ca4"
   },
   "source": [
    "### `order_products` data frame"
   ]
  },
  {
   "cell_type": "code",
   "execution_count": 84,
   "id": "b8240253",
   "metadata": {
    "id": "b8240253"
   },
   "outputs": [
    {
     "data": {
      "text/plain": [
       "order_id               0\n",
       "product_id             0\n",
       "add_to_cart_order    836\n",
       "reordered              0\n",
       "dtype: int64"
      ]
     },
     "execution_count": 84,
     "metadata": {},
     "output_type": "execute_result"
    }
   ],
   "source": [
    "# Encuentra los valores ausentes\n",
    "df_order_products.isna().sum()"
   ]
  },
  {
   "cell_type": "code",
   "execution_count": 85,
   "id": "9a78e5ee",
   "metadata": {
    "id": "9a78e5ee"
   },
   "outputs": [
    {
     "data": {
      "text/plain": [
       "count    4.544171e+06\n",
       "mean     8.351669e+00\n",
       "std      7.080368e+00\n",
       "min      1.000000e+00\n",
       "25%      3.000000e+00\n",
       "50%      6.000000e+00\n",
       "75%      1.100000e+01\n",
       "max      6.400000e+01\n",
       "Name: add_to_cart_order, dtype: float64"
      ]
     },
     "execution_count": 85,
     "metadata": {},
     "output_type": "execute_result"
    }
   ],
   "source": [
    "# ¿Cuáles son los valores mínimos y máximos en esta columna?\n",
    "df_order_products['add_to_cart_order'].describe()\n",
    "#tambien se podria:\n",
    "#df_order_products['add_to_cart_order'].max()\n",
    "#df_order_products['add_to_cart_order'].min()"
   ]
  },
  {
   "cell_type": "markdown",
   "id": "-Z2Ja215jW78",
   "metadata": {
    "id": "-Z2Ja215jW78"
   },
   "source": [
    "Describe brevemente cuáles son tus hallazgos."
   ]
  },
  {
   "cell_type": "markdown",
   "id": "9455dba7-43c3-4777-8081-40ff067e93f8",
   "metadata": {},
   "source": [
    "La cantidad minima que compraron fue de un solo articulo.\n",
    "La cantidad maxima que se compro fue de 64 articulos "
   ]
  },
  {
   "cell_type": "code",
   "execution_count": 86,
   "id": "ab9d0c2b",
   "metadata": {
    "id": "ab9d0c2b"
   },
   "outputs": [
    {
     "data": {
      "text/plain": [
       "737        2449164\n",
       "9926       1968313\n",
       "14394      2926893\n",
       "16418      1717990\n",
       "30114      1959075\n",
       "            ...   \n",
       "4505662    1800005\n",
       "4511400    1633337\n",
       "4517562     404157\n",
       "4534112    1673227\n",
       "4535739    1832957\n",
       "Name: order_id, Length: 836, dtype: int64"
      ]
     },
     "execution_count": 86,
     "metadata": {},
     "output_type": "execute_result"
    }
   ],
   "source": [
    "# Guarda todas las IDs de pedidos que tengan un valor ausente en 'add_to_cart_order'\n",
    "df_order_products_missing = df_order_products[df_order_products['add_to_cart_order'].isna()]['order_id']\n",
    "df_order_products_missing"
   ]
  },
  {
   "cell_type": "code",
   "execution_count": 87,
   "id": "54c31695",
   "metadata": {
    "id": "54c31695"
   },
   "outputs": [
    {
     "data": {
      "text/plain": [
       "61355      127\n",
       "3308010    115\n",
       "2136777    108\n",
       "171934     104\n",
       "1959075     98\n",
       "          ... \n",
       "747668      65\n",
       "2170451     65\n",
       "2729254     65\n",
       "2652650     65\n",
       "9310        65\n",
       "Name: order_id, Length: 70, dtype: int64"
      ]
     },
     "execution_count": 87,
     "metadata": {},
     "output_type": "execute_result"
    }
   ],
   "source": [
    "# ¿Todos los pedidos con valores ausentes tienen más de 64 productos?\n",
    "# Agrupa todos los pedidos con datos ausentes por su ID de pedido.\n",
    "df_order_products[df_order_products['order_id'].isin(df_order_products_missing)]['order_id'].value_counts()\n",
    "\n",
    "# Cuenta el número de 'product_id' en cada pedido y revisa el valor mínimo del conteo.\n"
   ]
  },
  {
   "cell_type": "markdown",
   "id": "p9V6pddtjglj",
   "metadata": {
    "id": "p9V6pddtjglj"
   },
   "source": [
    "Describe brevemente cuáles son tus hallazgos."
   ]
  },
  {
   "cell_type": "markdown",
   "id": "34564252-c219-4ec7-a784-28b7ace44087",
   "metadata": {},
   "source": [
    "Se puede evidenciar que algo ocurre despues del producto 64, pues el id de una orden tiene hasta 127 articulos. por alguna razon del articulo 65 en adelante la computadora o el programa no registra el orden de mas articulos en la compra."
   ]
  },
  {
   "cell_type": "code",
   "execution_count": 88,
   "id": "7a987d08",
   "metadata": {
    "id": "7a987d08"
   },
   "outputs": [
    {
     "name": "stdout",
     "output_type": "stream",
     "text": [
      "<class 'pandas.core.frame.DataFrame'>\n",
      "RangeIndex: 4545007 entries, 0 to 4545006\n",
      "Data columns (total 4 columns):\n",
      " #   Column             Non-Null Count    Dtype  \n",
      "---  ------             --------------    -----  \n",
      " 0   order_id           4545007 non-null  int64  \n",
      " 1   product_id         4545007 non-null  int64  \n",
      " 2   add_to_cart_order  4545007 non-null  float64\n",
      " 3   reordered          4545007 non-null  int64  \n",
      "dtypes: float64(1), int64(3)\n",
      "memory usage: 138.7 MB\n"
     ]
    }
   ],
   "source": [
    "# Remplaza los valores ausentes en la columna 'add_to_cart? con 999 y convierte la columna al tipo entero.\n",
    "df_order_products['add_to_cart_order'].fillna(999, inplace=True)\n",
    "df_order_products.info(show_counts=True)"
   ]
  },
  {
   "cell_type": "markdown",
   "id": "fea4bcc7",
   "metadata": {
    "id": "fea4bcc7"
   },
   "source": [
    "Describe brevemente tus hallazgos y lo que hiciste con ellos."
   ]
  },
  {
   "cell_type": "markdown",
   "id": "1e3a2609-6dd4-4676-a5ad-9ae8110509dc",
   "metadata": {},
   "source": [
    "En la columna 'add_to_cart_order' habia datos ausentes, asi que con el metodo .fillna() cambie los NaN por 999, asi se sabe, en caso de que se necesite, que esos son los ausentes, pues ningun comprador ha adquirido 999 productos."
   ]
  },
  {
   "cell_type": "markdown",
   "id": "RnplPFY1gSrb",
   "metadata": {
    "id": "RnplPFY1gSrb"
   },
   "source": [
    "## Conclusiones\n",
    "\n",
    "Escribe aquí tus conclusiones intermedias sobre el Paso 2. Preprocesamiento de los datos\n"
   ]
  },
  {
   "cell_type": "markdown",
   "id": "b92d2010-b593-4719-a953-3679f6a9ef4c",
   "metadata": {},
   "source": [
    "Revisar, limpiar y reemplazar datos ausentes es necesario para realizar un buen analisis de datos. Hacerlo con el codigo correcto ayudara a la eficiencia del analisis, pues, un mal codigo puede desviar el resultado. Muchas veces no se ve a simple vista que es lo que se esta buscando, pero con buenos datos es mas facil encontrarlo."
   ]
  },
  {
   "cell_type": "markdown",
   "id": "dfcac1d8-8361-4ded-add6-f88a9392a734",
   "metadata": {},
   "source": [
    "<div class=\"alert alert-block alert-success\">\n",
    "<b>Comentario del revisor (1ra Iteración)</b> <a class=“tocSkip”></a>\n",
    "\n",
    "¡Excelente trabajo manejando los valores faltantes! Esta etapa es clave para evitar sesgos y errores en los análisis o modelos. Según el caso, se pueden eliminar, imputar o estimar con técnicas avanzadas. Te dejo un artículo muy útil con diferentes formas de tratarlos: [Manejo de datos faltantes](https://www.kaggle.com/code/parulpandey/a-guide-to-handling-missing-values-in-python)\n",
    "\n",
    "</div>"
   ]
  },
  {
   "cell_type": "markdown",
   "id": "UjrOIwTcz3ri",
   "metadata": {
    "id": "UjrOIwTcz3ri"
   },
   "source": [
    "# Paso 3. Análisis de los datos\n",
    "\n",
    "Una vez los datos estén procesados y listos, haz el siguiente análisis:"
   ]
  },
  {
   "cell_type": "markdown",
   "id": "turkish-kidney",
   "metadata": {
    "id": "turkish-kidney"
   },
   "source": [
    "# [A] Fácil (deben completarse todos para aprobar)\n",
    "\n",
    "1. Verifica que los valores en las columnas `'order_hour_of_day'` y `'order_dow'` en la tabla orders sean razonables (es decir, `'order_hour_of_day'` oscile entre 0 y 23 y `'order_dow'` oscile entre 0 y 6).\n",
    "2. Crea un gráfico que muestre el número de personas que hacen pedidos dependiendo de la hora del día.\n",
    "3. Crea un gráfico que muestre qué día de la semana la gente hace sus compras.\n",
    "4. Crea un gráfico que muestre el tiempo que la gente espera hasta hacer su siguiente pedido, y comenta sobre los valores mínimos y máximos."
   ]
  },
  {
   "cell_type": "markdown",
   "id": "short-capability",
   "metadata": {
    "id": "short-capability"
   },
   "source": [
    "### [A1] Verifica que los valores sean sensibles"
   ]
  },
  {
   "cell_type": "code",
   "execution_count": 89,
   "id": "growing-fruit",
   "metadata": {
    "id": "growing-fruit"
   },
   "outputs": [
    {
     "name": "stdout",
     "output_type": "stream",
     "text": [
      "23\n"
     ]
    },
    {
     "data": {
      "text/plain": [
       "0"
      ]
     },
     "execution_count": 89,
     "metadata": {},
     "output_type": "execute_result"
    }
   ],
   "source": [
    "print(df_order_no_nan['order_hour_of_day'].max())\n",
    "df_order_no_nan['order_hour_of_day'].min()"
   ]
  },
  {
   "cell_type": "code",
   "execution_count": 90,
   "id": "accessory-malaysia",
   "metadata": {
    "id": "accessory-malaysia"
   },
   "outputs": [
    {
     "name": "stdout",
     "output_type": "stream",
     "text": [
      "6\n"
     ]
    },
    {
     "data": {
      "text/plain": [
       "0"
      ]
     },
     "execution_count": 90,
     "metadata": {},
     "output_type": "execute_result"
    }
   ],
   "source": [
    "print(df_order_no_nan['order_dow'].max())\n",
    "df_order_no_nan['order_dow'].min()"
   ]
  },
  {
   "cell_type": "markdown",
   "id": "hmR2GNQ6lCsX",
   "metadata": {
    "id": "hmR2GNQ6lCsX"
   },
   "source": [
    "Escribe aquí tus conclusiones"
   ]
  },
  {
   "cell_type": "markdown",
   "id": "827987c3-b8d3-4348-b563-0d08ab99ba17",
   "metadata": {},
   "source": [
    "Los valores de las columnas estan oscilando dentro de los limites razonables."
   ]
  },
  {
   "cell_type": "markdown",
   "id": "36adcc27-3884-4e1f-9204-3eb1f557dec2",
   "metadata": {},
   "source": [
    "<div class=\"alert alert-block alert-success\">\n",
    "<b>Comentario del revisor (1ra Iteración)</b> <a class=“tocSkip”></a>\n",
    "\n",
    "¡Muy buen trabajo validando los datos de hora y día de la semana! Estas comprobaciones son clave para asegurar que no haya errores que afecten los análisis. Detectar inconsistencias a tiempo mejora la calidad y confiabilidad de los resultados.\n",
    "\n",
    "</div>"
   ]
  },
  {
   "cell_type": "markdown",
   "id": "a6743a70",
   "metadata": {
    "id": "a6743a70"
   },
   "source": [
    "### [A2] Para cada hora del día, ¿cuántas personas hacen órdenes?"
   ]
  },
  {
   "cell_type": "code",
   "execution_count": 91,
   "id": "a36cca27",
   "metadata": {
    "id": "a36cca27"
   },
   "outputs": [
    {
     "data": {
      "text/plain": [
       "<AxesSubplot:title={'center':'Cantidad personas que compran'}, xlabel='Hora', ylabel='Pedidos'>"
      ]
     },
     "execution_count": 91,
     "metadata": {},
     "output_type": "execute_result"
    },
    {
     "data": {
      "image/png": "[encoded data removed]",
      "text/plain": [
       "<Figure size 1000x500 with 1 Axes>"
      ]
     },
     "metadata": {},
     "output_type": "display_data"
    }
   ],
   "source": [
    "from matplotlib import pyplot as plt\n",
    "\n",
    "\n",
    "fig = df_order_no_nan.groupby(['order_hour_of_day'])['order_dow'].sum()\n",
    "fig.plot(x='order_hour_of_day',y='order_dow', title= 'Cantidad personas que compran', xlabel= 'Hora', ylabel= 'Pedidos',xlim=[0, 24],grid=True,figsize=[10,5], style=\"o-\",  xticks=[0,1,2,3,4,5,6,7,8,9,10,11,12,13,14,15,16,17,18,19,20,21,22,23])"
   ]
  },
  {
   "cell_type": "markdown",
   "id": "11270eed",
   "metadata": {
    "id": "11270eed"
   },
   "source": [
    "Escribe aquí tus conclusiones"
   ]
  },
  {
   "cell_type": "markdown",
   "id": "659f8a16-ccf6-4538-aeb7-377550bc81b0",
   "metadata": {},
   "source": [
    "Se puede evidenciar que el pico de pedidos ocurre entre las 10 y las 11. Las 14 y 15 horas Tambien estan muy cerca de los pedidos de las 10 y 11. "
   ]
  },
  {
   "cell_type": "markdown",
   "id": "b3a8ddb9-fbea-4233-8b3c-22d07f3d443f",
   "metadata": {},
   "source": [
    "<div class=\"alert alert-block alert-success\">\n",
    "<b>Comentario del revisor (1ra Iteración)</b> <a class=“tocSkip”></a>\n",
    "\n",
    "¡Excelente trabajo! Has representado correctamente la cantidad de órdenes realizadas en cada hora del día. Identificaste los puntos claves de la gráfica, algo que es esencial para definir estrategias de marketing.\n",
    "\n",
    "</div>"
   ]
  },
  {
   "cell_type": "markdown",
   "id": "documented-command",
   "metadata": {
    "id": "documented-command"
   },
   "source": [
    "### [A3] ¿Qué día de la semana compran víveres las personas?"
   ]
  },
  {
   "cell_type": "code",
   "execution_count": 92,
   "id": "chief-digit",
   "metadata": {
    "id": "chief-digit",
    "jupyter": {
     "source_hidden": true
    },
    "scrolled": true
   },
   "outputs": [
    {
     "data": {
      "text/plain": [
       "<function matplotlib.pyplot.show(close=None, block=None)>"
      ]
     },
     "execution_count": 92,
     "metadata": {},
     "output_type": "execute_result"
    },
    {
     "data": {
      "image/png": "[encoded data removed]",
      "text/plain": [
       "<Figure size 1000x500 with 1 Axes>"
      ]
     },
     "metadata": {},
     "output_type": "display_data"
    }
   ],
   "source": [
    "fig_1 = df_order_no_nan['order_dow'].value_counts().reset_index()\n",
    "fig_1.columns = ['order_dow','count']\n",
    "fig_1.sort_values('order_dow', inplace=True)\n",
    "fig_1\n",
    "dias_semana = ['Domingo', 'Lunes', 'Martes', 'Miércoles', 'Jueves', 'Viernes', 'Sábado']\n",
    "fig_1.plot(x='order_dow', \n",
    "           title= 'Dias que compran', \n",
    "           kind= 'bar', \n",
    "           xlabel= 'Dias', \n",
    "           ylabel= 'Pedidos',\n",
    "           figsize=[10,5], \n",
    "           legend=False, \n",
    "           xlim=[0,6],\n",
    "           rot=60\n",
    "           )\n",
    "\n",
    "plt.xticks(ticks=range(7), labels=dias_semana,)\n",
    "plt.show"
   ]
  },
  {
   "cell_type": "markdown",
   "id": "dominant-lightning",
   "metadata": {
    "id": "dominant-lightning"
   },
   "source": [
    "Escribe aquí tus conclusiones"
   ]
  },
  {
   "cell_type": "markdown",
   "id": "e4916a57-759b-4c73-a350-26a8adf45829",
   "metadata": {},
   "source": [
    "El dia que mas biberes compran las personas son el dia domingo y lunes, Se evidencia una baja del mares al jueves y una leve subida el dia viernes."
   ]
  },
  {
   "cell_type": "markdown",
   "id": "6b31c907-8ba0-4ffe-acb1-b95be4437189",
   "metadata": {},
   "source": [
    "<div class=\"alert alert-block alert-success\">\n",
    "<b>Comentario del revisor (1ra Iteración)</b> <a class=“tocSkip”></a>\n",
    "\n",
    "Muy buen trabajo al mostrar las órdenes por día de la semana con el diagrama de barras. Efectivamente, la mayoría de clientes hacen sus compras al inicio de la semana, esto es un detalle interesante que nos ayuda a entender mejor el comportamiento de los clientes\n",
    "\n",
    "</div>"
   ]
  },
  {
   "cell_type": "markdown",
   "id": "cutting-concert",
   "metadata": {
    "id": "cutting-concert"
   },
   "source": [
    "### [A4] ¿Cuánto tiempo esperan las personas hasta hacer otro pedido? Comenta sobre los valores mínimos y máximos."
   ]
  },
  {
   "cell_type": "code",
   "execution_count": 93,
   "id": "c231f523",
   "metadata": {
    "id": "c231f523"
   },
   "outputs": [
    {
     "data": {
      "text/plain": [
       "<function matplotlib.pyplot.show(close=None, block=None)>"
      ]
     },
     "execution_count": 93,
     "metadata": {},
     "output_type": "execute_result"
    },
    {
     "data": {
      "image/png": "[encoded data removed]",
      "text/plain": [
       "<Figure size 1000x500 with 1 Axes>"
      ]
     },
     "metadata": {},
     "output_type": "display_data"
    }
   ],
   "source": [
    "fig_2  = df_orders['days_since_prior_order'].value_counts().reset_index()\n",
    "fig_2.columns = ['days_since_prior_order','count']\n",
    "fig_2.sort_values('days_since_prior_order', inplace=True)\n",
    "fig_2.plot(x='days_since_prior_order', \n",
    "           title= 'Dias para el segundo pedido', \n",
    "           kind= 'bar', \n",
    "           xlabel= 'Dias del mes', \n",
    "           ylabel= 'Personas que hacen otro pedido',\n",
    "           figsize=[10,5], \n",
    "           legend=False, \n",
    "           xlim=[0,30],\n",
    "           rot=60\n",
    "           ) \n",
    "plt.show"
   ]
  },
  {
   "cell_type": "code",
   "execution_count": 94,
   "id": "0aea1c66-7b23-4bcf-b131-21277ec406eb",
   "metadata": {},
   "outputs": [
    {
     "name": "stdout",
     "output_type": "stream",
     "text": [
      "    days_since_prior_order  count\n",
      "30                    26.0   2640\n"
     ]
    },
    {
     "data": {
      "text/html": [
       "<div>\n",
       "<style scoped>\n",
       "    .dataframe tbody tr th:only-of-type {\n",
       "        vertical-align: middle;\n",
       "    }\n",
       "\n",
       "    .dataframe tbody tr th {\n",
       "        vertical-align: top;\n",
       "    }\n",
       "\n",
       "    .dataframe thead th {\n",
       "        text-align: right;\n",
       "    }\n",
       "</style>\n",
       "<table border=\"1\" class=\"dataframe\">\n",
       "  <thead>\n",
       "    <tr style=\"text-align: right;\">\n",
       "      <th></th>\n",
       "      <th>days_since_prior_order</th>\n",
       "      <th>count</th>\n",
       "    </tr>\n",
       "  </thead>\n",
       "  <tbody>\n",
       "    <tr>\n",
       "      <th>0</th>\n",
       "      <td>30.0</td>\n",
       "      <td>51338</td>\n",
       "    </tr>\n",
       "  </tbody>\n",
       "</table>\n",
       "</div>"
      ],
      "text/plain": [
       "   days_since_prior_order  count\n",
       "0                    30.0  51338"
      ]
     },
     "execution_count": 94,
     "metadata": {},
     "output_type": "execute_result"
    }
   ],
   "source": [
    "valor_minimo = fig_2['count'].min()\n",
    "fila_minimo = fig_2[fig_2['count']== valor_minimo]\n",
    "print(fila_minimo)\n",
    "valor_maximo = fig_2['count'].max()\n",
    "fila_maximo = fig_2[fig_2['count']== valor_maximo]\n",
    "fila_maximo"
   ]
  },
  {
   "cell_type": "markdown",
   "id": "discrete-vertex",
   "metadata": {
    "id": "discrete-vertex"
   },
   "source": [
    "Escribe aquí tus conclusiones"
   ]
  },
  {
   "cell_type": "markdown",
   "id": "dc219071-50fc-4272-b0eb-60d4c6acec21",
   "metadata": {},
   "source": [
    "Como se puede ver en la grafica, despues de que pasan 30 dias los clientes realizan un segundo pedido, el segundo pico es despues de pasados 7 dias. Pasados los 30 dias 51338 personas realizaron un segundo pedido.\n",
    "Por el lado opuesto, solo 2640 personas pieden a los 26 dias.\n",
    "En general los dias que menos personas pidieron son del dia 21 al dia 29."
   ]
  },
  {
   "cell_type": "markdown",
   "id": "be06200c-3741-4531-81af-5f33d4aa1f33",
   "metadata": {},
   "source": [
    "<div class=\"alert alert-block alert-success\">\n",
    "<b>Comentario del revisor (1ra Iteración)</b> <a class=“tocSkip”></a>\n",
    "\n",
    "Buen trabajo obteniendo la gráfica, ésta permite ver patrones como compras semanales o mensuales.\n",
    "\n",
    "Muchos de los clientes hacen compras semanales (cada 7 días), y parece que una gran proporción de usuarios realiza compras mensuales (cada 30 días). Sin embargo, la tendencia decreciente en los últimos días podría indicar un error común al registrar los datos correspondientes al día 30, ya que, cuando no hay información disponible, algunos sistemas suelen asignar automáticamente el último valor de la serie de tiempo (última hora, último día de la semana, del mes o del año). Es un detalle importante que debe ser revisado para mejorar la precisión de los datos.\n",
    "\n",
    "</div>"
   ]
  },
  {
   "cell_type": "markdown",
   "id": "tight-staff",
   "metadata": {
    "id": "tight-staff"
   },
   "source": [
    "# [B] Intermedio (deben completarse todos para aprobar)\n",
    "\n",
    "1. ¿Existe alguna diferencia entre las distribuciones `'order_hour_of_day'` de los miércoles y los sábados? Traza gráficos de barra de `'order_hour_of_day'` para ambos días en la misma figura y describe las diferencias que observes.\n",
    "2. Grafica la distribución para el número de órdenes que hacen los clientes (es decir, cuántos clientes hicieron solo 1 pedido, cuántos hicieron 2, cuántos 3, y así sucesivamente...).\n",
    "3. ¿Cuáles son los 20 principales productos que se piden con más frecuencia (muestra su identificación y nombre)?"
   ]
  },
  {
   "cell_type": "markdown",
   "id": "packed-classic",
   "metadata": {
    "id": "packed-classic"
   },
   "source": [
    "### [B1] Diferencia entre miércoles y sábados para  `'order_hour_of_day'`. Traza gráficos de barra para los dos días y describe las diferencias que veas."
   ]
  },
  {
   "cell_type": "code",
   "execution_count": 95,
   "id": "d89b8403",
   "metadata": {
    "id": "d89b8403"
   },
   "outputs": [
    {
     "data": {
      "text/plain": [
       "<function matplotlib.pyplot.show(close=None, block=None)>"
      ]
     },
     "execution_count": 95,
     "metadata": {},
     "output_type": "execute_result"
    },
    {
     "data": {
      "image/png": "[encoded data removed]",
      "text/plain": [
       "<Figure size 1000x500 with 1 Axes>"
      ]
     },
     "metadata": {},
     "output_type": "display_data"
    }
   ],
   "source": [
    "sab = df_orders[df_orders['order_dow']==6]\n",
    "sabado = sab['order_hour_of_day'].value_counts().reset_index()\n",
    "sabado.columns = ['order_hour_of_day','count']\n",
    "sabado_1 = sabado.sort_values('order_hour_of_day')#, inplace=True)\n",
    "sabado_1.plot(x='order_hour_of_day', \n",
    "           title= 'Compras', \n",
    "           kind= 'bar', \n",
    "           xlabel= 'Hora del dia', \n",
    "           ylabel= 'Personas que hacen otro pedido',\n",
    "           figsize=[10,5], \n",
    "           legend=False, \n",
    "           xlim=[0,23],\n",
    "           rot=60\n",
    "           ) \n",
    "plt.show"
   ]
  },
  {
   "cell_type": "code",
   "execution_count": 96,
   "id": "94e54e8a",
   "metadata": {
    "id": "94e54e8a"
   },
   "outputs": [
    {
     "data": {
      "text/plain": [
       "<function matplotlib.pyplot.show(close=None, block=None)>"
      ]
     },
     "execution_count": 96,
     "metadata": {},
     "output_type": "execute_result"
    },
    {
     "data": {
      "image/png": "[encoded data removed]",
      "text/plain": [
       "<Figure size 1000x500 with 1 Axes>"
      ]
     },
     "metadata": {},
     "output_type": "display_data"
    }
   ],
   "source": [
    "mie = df_orders[df_orders['order_dow']==3]\n",
    "miercoles = mie['order_hour_of_day'].value_counts().reset_index()\n",
    "miercoles.columns = ['order_hour_of_day','count']\n",
    "miercoles_1 = miercoles.sort_values('order_hour_of_day')#,inplace=True)\n",
    "miercoles_1.plot(x='order_hour_of_day', \n",
    "           title= 'Compras', \n",
    "           kind= 'bar', \n",
    "           xlabel= 'Hora del dia', \n",
    "           ylabel= 'Personas que hacen otro pedido',\n",
    "           figsize=[10,5], \n",
    "           legend=False, \n",
    "           xlim=[0,23],\n",
    "           rot=60\n",
    "           ) \n",
    "plt.show"
   ]
  },
  {
   "cell_type": "code",
   "execution_count": 97,
   "id": "797c90a8",
   "metadata": {
    "id": "797c90a8"
   },
   "outputs": [
    {
     "data": {
      "image/png": "[encoded data removed]",
      "text/plain": [
       "<Figure size 1000x500 with 1 Axes>"
      ]
     },
     "metadata": {},
     "output_type": "display_data"
    }
   ],
   "source": [
    "ax= sabado_1.plot(x='order_hour_of_day', \n",
    "                  y='count',\n",
    "           title= 'Compras', \n",
    "           kind= 'bar', \n",
    "           xlabel= 'Hora del dia', \n",
    "           ylabel= 'Personas que hacen otro pedido',\n",
    "           figsize=[10,5], \n",
    "           legend=False, \n",
    "           xlim=[0,23],\n",
    "           rot=60,\n",
    "           alpha=0.7,\n",
    "           color= 'orange'\n",
    "           ) \n",
    "\n",
    "miercoles_1.plot(x='order_hour_of_day',\n",
    "                 xlabel= 'Hora del dia',\n",
    "           kind= 'bar',\n",
    "           alpha=0.5,\n",
    "           color = 'brown',\n",
    "                 ax=ax\n",
    "          ) \n",
    "plt.legend(['Sabado', 'Miercoles'])\n",
    "plt.show()"
   ]
  },
  {
   "cell_type": "code",
   "execution_count": null,
   "id": "35bcea30",
   "metadata": {
    "id": "35bcea30"
   },
   "outputs": [],
   "source": []
  },
  {
   "cell_type": "markdown",
   "id": "charitable-congo",
   "metadata": {
    "id": "charitable-congo"
   },
   "source": [
    "Escribe aquí tus conclusiones"
   ]
  },
  {
   "cell_type": "markdown",
   "id": "99fce711-27e2-4f7b-adc5-27bda7778266",
   "metadata": {},
   "source": [
    "En el grafico se puede evidenciar que los dias miercoles y sabado se comportan un poco pareido en la mayoria de horas del dia. El dia sabado hay mas pedidos que el dia miercoles. Se ve una clara disminucion de pedidos a las 12, 13 y 14 horas del miercoles en comparacion con el sabado. Por otro lado, el dia miercoles a las 6,7,9 y 10 horas tiene mas ventas que el dia sabado."
   ]
  },
  {
   "cell_type": "markdown",
   "id": "02775282-47ac-45da-ab04-43df7d26049c",
   "metadata": {},
   "source": [
    "<div class=\"alert alert-block alert-success\">\n",
    "<b>Comentario del revisor (1ra Iteración)</b> <a class=“tocSkip”></a>\n",
    "\n",
    "Has hecho una comparativa muy acertada entre los conjuntos de datos. En efecto hay una diferencia en el comportamiento de los clientes al medio día, esto podría estar relacionada con la hora del almuerzo, cuando muchas personas están ocupadas y no usan la app.\n",
    "\n",
    "</div>"
   ]
  },
  {
   "cell_type": "markdown",
   "id": "e3891143",
   "metadata": {
    "id": "e3891143"
   },
   "source": [
    "### [B2] ¿Cuál es la distribución para el número de pedidos por cliente?"
   ]
  },
  {
   "cell_type": "code",
   "execution_count": 98,
   "id": "d8c26c23",
   "metadata": {
    "id": "d8c26c23"
   },
   "outputs": [
    {
     "data": {
      "text/html": [
       "<div>\n",
       "<style scoped>\n",
       "    .dataframe tbody tr th:only-of-type {\n",
       "        vertical-align: middle;\n",
       "    }\n",
       "\n",
       "    .dataframe tbody tr th {\n",
       "        vertical-align: top;\n",
       "    }\n",
       "\n",
       "    .dataframe thead th {\n",
       "        text-align: right;\n",
       "    }\n",
       "</style>\n",
       "<table border=\"1\" class=\"dataframe\">\n",
       "  <thead>\n",
       "    <tr style=\"text-align: right;\">\n",
       "      <th></th>\n",
       "      <th>user_id</th>\n",
       "      <th>counts</th>\n",
       "    </tr>\n",
       "  </thead>\n",
       "  <tbody>\n",
       "    <tr>\n",
       "      <th>0</th>\n",
       "      <td>149605</td>\n",
       "      <td>28</td>\n",
       "    </tr>\n",
       "    <tr>\n",
       "      <th>1</th>\n",
       "      <td>193164</td>\n",
       "      <td>26</td>\n",
       "    </tr>\n",
       "    <tr>\n",
       "      <th>2</th>\n",
       "      <td>78375</td>\n",
       "      <td>25</td>\n",
       "    </tr>\n",
       "    <tr>\n",
       "      <th>3</th>\n",
       "      <td>66664</td>\n",
       "      <td>24</td>\n",
       "    </tr>\n",
       "    <tr>\n",
       "      <th>4</th>\n",
       "      <td>134511</td>\n",
       "      <td>24</td>\n",
       "    </tr>\n",
       "    <tr>\n",
       "      <th>...</th>\n",
       "      <td>...</td>\n",
       "      <td>...</td>\n",
       "    </tr>\n",
       "    <tr>\n",
       "      <th>149592</th>\n",
       "      <td>203969</td>\n",
       "      <td>1</td>\n",
       "    </tr>\n",
       "    <tr>\n",
       "      <th>149593</th>\n",
       "      <td>138465</td>\n",
       "      <td>1</td>\n",
       "    </tr>\n",
       "    <tr>\n",
       "      <th>149594</th>\n",
       "      <td>134371</td>\n",
       "      <td>1</td>\n",
       "    </tr>\n",
       "    <tr>\n",
       "      <th>149595</th>\n",
       "      <td>144612</td>\n",
       "      <td>1</td>\n",
       "    </tr>\n",
       "    <tr>\n",
       "      <th>149596</th>\n",
       "      <td>139219</td>\n",
       "      <td>1</td>\n",
       "    </tr>\n",
       "  </tbody>\n",
       "</table>\n",
       "<p>149597 rows × 2 columns</p>\n",
       "</div>"
      ],
      "text/plain": [
       "        user_id  counts\n",
       "0        149605      28\n",
       "1        193164      26\n",
       "2         78375      25\n",
       "3         66664      24\n",
       "4        134511      24\n",
       "...         ...     ...\n",
       "149592   203969       1\n",
       "149593   138465       1\n",
       "149594   134371       1\n",
       "149595   144612       1\n",
       "149596   139219       1\n",
       "\n",
       "[149597 rows x 2 columns]"
      ]
     },
     "execution_count": 98,
     "metadata": {},
     "output_type": "execute_result"
    }
   ],
   "source": [
    "df_order_client = df_order_no_nan['user_id'].value_counts().reset_index()\n",
    "df_order_client.columns = ['user_id','counts']\n",
    "df_order_client_1 = df_order_client['counts'].value_counts().reset_index()\n",
    "df_order_client"
   ]
  },
  {
   "cell_type": "code",
   "execution_count": 99,
   "id": "00e69a66",
   "metadata": {
    "id": "00e69a66"
   },
   "outputs": [
    {
     "data": {
      "image/png": "[encoded data removed]",
      "text/plain": [
       "<Figure size 1200x500 with 1 Axes>"
      ]
     },
     "metadata": {},
     "output_type": "display_data"
    }
   ],
   "source": [
    "fig_client = df_order_client_1.plot(x='index',\n",
    "           title= 'Pedidos de los clientes', \n",
    "           kind= 'bar', \n",
    "           xlabel= 'Pedidos', \n",
    "           ylabel= 'Personas',\n",
    "           figsize=[12,5], \n",
    "           legend=False, \n",
    "           xlim=[0,28],\n",
    "           rot=0)\n",
    "plt.show()"
   ]
  },
  {
   "cell_type": "markdown",
   "id": "d2eff7d5",
   "metadata": {
    "id": "d2eff7d5"
   },
   "source": [
    "Escribe aquí tus conclusiones"
   ]
  },
  {
   "cell_type": "markdown",
   "id": "48f8de32-4a8a-4eb9-83b6-3f35b1ca9dc0",
   "metadata": {},
   "source": [
    "Se puede evidenciar que mas de 50 mil personas realizan solo un pedido y menos de 10 mil personas realizan mas de 6 pedidos. Lo cual significa que hay poca fidelizacion de los clientes comparado con el total de clientes."
   ]
  },
  {
   "cell_type": "markdown",
   "id": "a118f6d8-cf28-4ece-aee0-b72aa16e3604",
   "metadata": {},
   "source": [
    "<div class=\"alert alert-block alert-success\">\n",
    "<b>Comentario del revisor (1ra Iteración)</b> <a class=“tocSkip”></a>\n",
    "\n",
    "Buen trabajo obteniendo la distribución. Se ve claramente que la mayoría de los clientes han hecho pocos pedidos y el comportamiento decreciente es totalmente esperable en este tipo de análisis. ¡Bien hecho!\n",
    "\n",
    "</div>"
   ]
  },
  {
   "cell_type": "markdown",
   "id": "54a0319c",
   "metadata": {
    "id": "54a0319c"
   },
   "source": [
    "### [B3] ¿Cuáles son los 20 productos más populares (muestra su ID y nombre)?"
   ]
  },
  {
   "cell_type": "code",
   "execution_count": 100,
   "id": "exterior-arizona",
   "metadata": {
    "id": "exterior-arizona",
    "scrolled": true
   },
   "outputs": [
    {
     "data": {
      "text/html": [
       "<div>\n",
       "<style scoped>\n",
       "    .dataframe tbody tr th:only-of-type {\n",
       "        vertical-align: middle;\n",
       "    }\n",
       "\n",
       "    .dataframe tbody tr th {\n",
       "        vertical-align: top;\n",
       "    }\n",
       "\n",
       "    .dataframe thead th {\n",
       "        text-align: right;\n",
       "    }\n",
       "</style>\n",
       "<table border=\"1\" class=\"dataframe\">\n",
       "  <thead>\n",
       "    <tr style=\"text-align: right;\">\n",
       "      <th></th>\n",
       "      <th>product_id</th>\n",
       "      <th>counts</th>\n",
       "    </tr>\n",
       "  </thead>\n",
       "  <tbody>\n",
       "    <tr>\n",
       "      <th>0</th>\n",
       "      <td>24852</td>\n",
       "      <td>66050</td>\n",
       "    </tr>\n",
       "    <tr>\n",
       "      <th>1</th>\n",
       "      <td>13176</td>\n",
       "      <td>53297</td>\n",
       "    </tr>\n",
       "    <tr>\n",
       "      <th>2</th>\n",
       "      <td>21137</td>\n",
       "      <td>37039</td>\n",
       "    </tr>\n",
       "    <tr>\n",
       "      <th>3</th>\n",
       "      <td>21903</td>\n",
       "      <td>33971</td>\n",
       "    </tr>\n",
       "    <tr>\n",
       "      <th>4</th>\n",
       "      <td>47209</td>\n",
       "      <td>29773</td>\n",
       "    </tr>\n",
       "    <tr>\n",
       "      <th>5</th>\n",
       "      <td>47766</td>\n",
       "      <td>24689</td>\n",
       "    </tr>\n",
       "    <tr>\n",
       "      <th>6</th>\n",
       "      <td>47626</td>\n",
       "      <td>21495</td>\n",
       "    </tr>\n",
       "    <tr>\n",
       "      <th>7</th>\n",
       "      <td>16797</td>\n",
       "      <td>20018</td>\n",
       "    </tr>\n",
       "    <tr>\n",
       "      <th>8</th>\n",
       "      <td>26209</td>\n",
       "      <td>19690</td>\n",
       "    </tr>\n",
       "    <tr>\n",
       "      <th>9</th>\n",
       "      <td>27845</td>\n",
       "      <td>19600</td>\n",
       "    </tr>\n",
       "    <tr>\n",
       "      <th>10</th>\n",
       "      <td>27966</td>\n",
       "      <td>19197</td>\n",
       "    </tr>\n",
       "    <tr>\n",
       "      <th>11</th>\n",
       "      <td>22935</td>\n",
       "      <td>15898</td>\n",
       "    </tr>\n",
       "    <tr>\n",
       "      <th>12</th>\n",
       "      <td>24964</td>\n",
       "      <td>15292</td>\n",
       "    </tr>\n",
       "    <tr>\n",
       "      <th>13</th>\n",
       "      <td>45007</td>\n",
       "      <td>14584</td>\n",
       "    </tr>\n",
       "    <tr>\n",
       "      <th>14</th>\n",
       "      <td>39275</td>\n",
       "      <td>13879</td>\n",
       "    </tr>\n",
       "    <tr>\n",
       "      <th>15</th>\n",
       "      <td>49683</td>\n",
       "      <td>13675</td>\n",
       "    </tr>\n",
       "    <tr>\n",
       "      <th>16</th>\n",
       "      <td>28204</td>\n",
       "      <td>12544</td>\n",
       "    </tr>\n",
       "    <tr>\n",
       "      <th>17</th>\n",
       "      <td>5876</td>\n",
       "      <td>12232</td>\n",
       "    </tr>\n",
       "    <tr>\n",
       "      <th>18</th>\n",
       "      <td>8277</td>\n",
       "      <td>11993</td>\n",
       "    </tr>\n",
       "    <tr>\n",
       "      <th>19</th>\n",
       "      <td>40706</td>\n",
       "      <td>11781</td>\n",
       "    </tr>\n",
       "  </tbody>\n",
       "</table>\n",
       "</div>"
      ],
      "text/plain": [
       "    product_id  counts\n",
       "0        24852   66050\n",
       "1        13176   53297\n",
       "2        21137   37039\n",
       "3        21903   33971\n",
       "4        47209   29773\n",
       "5        47766   24689\n",
       "6        47626   21495\n",
       "7        16797   20018\n",
       "8        26209   19690\n",
       "9        27845   19600\n",
       "10       27966   19197\n",
       "11       22935   15898\n",
       "12       24964   15292\n",
       "13       45007   14584\n",
       "14       39275   13879\n",
       "15       49683   13675\n",
       "16       28204   12544\n",
       "17        5876   12232\n",
       "18        8277   11993\n",
       "19       40706   11781"
      ]
     },
     "execution_count": 100,
     "metadata": {},
     "output_type": "execute_result"
    }
   ],
   "source": [
    "df_popular = df_order_products['product_id'].value_counts().reset_index()\n",
    "df_popular.columns = ['product_id','counts']\n",
    "df_popular.head(20)\n"
   ]
  },
  {
   "cell_type": "code",
   "execution_count": 101,
   "id": "universal-facial",
   "metadata": {
    "id": "universal-facial"
   },
   "outputs": [
    {
     "data": {
      "text/html": [
       "<div>\n",
       "<style scoped>\n",
       "    .dataframe tbody tr th:only-of-type {\n",
       "        vertical-align: middle;\n",
       "    }\n",
       "\n",
       "    .dataframe tbody tr th {\n",
       "        vertical-align: top;\n",
       "    }\n",
       "\n",
       "    .dataframe thead th {\n",
       "        text-align: right;\n",
       "    }\n",
       "</style>\n",
       "<table border=\"1\" class=\"dataframe\">\n",
       "  <thead>\n",
       "    <tr style=\"text-align: right;\">\n",
       "      <th></th>\n",
       "      <th>product_id</th>\n",
       "      <th>counts</th>\n",
       "      <th>product_name</th>\n",
       "    </tr>\n",
       "  </thead>\n",
       "  <tbody>\n",
       "    <tr>\n",
       "      <th>0</th>\n",
       "      <td>24852</td>\n",
       "      <td>66050</td>\n",
       "      <td>BANANA</td>\n",
       "    </tr>\n",
       "    <tr>\n",
       "      <th>1</th>\n",
       "      <td>13176</td>\n",
       "      <td>53297</td>\n",
       "      <td>BAG OF ORGANIC BANANAS</td>\n",
       "    </tr>\n",
       "    <tr>\n",
       "      <th>2</th>\n",
       "      <td>21137</td>\n",
       "      <td>37039</td>\n",
       "      <td>ORGANIC STRAWBERRIES</td>\n",
       "    </tr>\n",
       "    <tr>\n",
       "      <th>3</th>\n",
       "      <td>21903</td>\n",
       "      <td>33971</td>\n",
       "      <td>ORGANIC BABY SPINACH</td>\n",
       "    </tr>\n",
       "    <tr>\n",
       "      <th>4</th>\n",
       "      <td>47209</td>\n",
       "      <td>29773</td>\n",
       "      <td>ORGANIC HASS AVOCADO</td>\n",
       "    </tr>\n",
       "    <tr>\n",
       "      <th>5</th>\n",
       "      <td>47766</td>\n",
       "      <td>24689</td>\n",
       "      <td>ORGANIC AVOCADO</td>\n",
       "    </tr>\n",
       "    <tr>\n",
       "      <th>6</th>\n",
       "      <td>47626</td>\n",
       "      <td>21495</td>\n",
       "      <td>LARGE LEMON</td>\n",
       "    </tr>\n",
       "    <tr>\n",
       "      <th>7</th>\n",
       "      <td>16797</td>\n",
       "      <td>20018</td>\n",
       "      <td>STRAWBERRIES</td>\n",
       "    </tr>\n",
       "    <tr>\n",
       "      <th>8</th>\n",
       "      <td>26209</td>\n",
       "      <td>19690</td>\n",
       "      <td>LIMES</td>\n",
       "    </tr>\n",
       "    <tr>\n",
       "      <th>9</th>\n",
       "      <td>27845</td>\n",
       "      <td>19600</td>\n",
       "      <td>ORGANIC WHOLE MILK</td>\n",
       "    </tr>\n",
       "    <tr>\n",
       "      <th>10</th>\n",
       "      <td>27966</td>\n",
       "      <td>19197</td>\n",
       "      <td>ORGANIC RASPBERRIES</td>\n",
       "    </tr>\n",
       "    <tr>\n",
       "      <th>11</th>\n",
       "      <td>22935</td>\n",
       "      <td>15898</td>\n",
       "      <td>ORGANIC YELLOW ONION</td>\n",
       "    </tr>\n",
       "    <tr>\n",
       "      <th>12</th>\n",
       "      <td>24964</td>\n",
       "      <td>15292</td>\n",
       "      <td>ORGANIC GARLIC</td>\n",
       "    </tr>\n",
       "    <tr>\n",
       "      <th>13</th>\n",
       "      <td>45007</td>\n",
       "      <td>14584</td>\n",
       "      <td>ORGANIC ZUCCHINI</td>\n",
       "    </tr>\n",
       "    <tr>\n",
       "      <th>14</th>\n",
       "      <td>39275</td>\n",
       "      <td>13879</td>\n",
       "      <td>ORGANIC BLUEBERRIES</td>\n",
       "    </tr>\n",
       "    <tr>\n",
       "      <th>15</th>\n",
       "      <td>49683</td>\n",
       "      <td>13675</td>\n",
       "      <td>CUCUMBER KIRBY</td>\n",
       "    </tr>\n",
       "    <tr>\n",
       "      <th>16</th>\n",
       "      <td>28204</td>\n",
       "      <td>12544</td>\n",
       "      <td>ORGANIC FUJI APPLE</td>\n",
       "    </tr>\n",
       "    <tr>\n",
       "      <th>17</th>\n",
       "      <td>5876</td>\n",
       "      <td>12232</td>\n",
       "      <td>ORGANIC LEMON</td>\n",
       "    </tr>\n",
       "    <tr>\n",
       "      <th>18</th>\n",
       "      <td>8277</td>\n",
       "      <td>11993</td>\n",
       "      <td>APPLE HONEYCRISP ORGANIC</td>\n",
       "    </tr>\n",
       "    <tr>\n",
       "      <th>19</th>\n",
       "      <td>40706</td>\n",
       "      <td>11781</td>\n",
       "      <td>ORGANIC GRAPE TOMATOES</td>\n",
       "    </tr>\n",
       "  </tbody>\n",
       "</table>\n",
       "</div>"
      ],
      "text/plain": [
       "    product_id  counts              product_name\n",
       "0        24852   66050                    BANANA\n",
       "1        13176   53297    BAG OF ORGANIC BANANAS\n",
       "2        21137   37039      ORGANIC STRAWBERRIES\n",
       "3        21903   33971      ORGANIC BABY SPINACH\n",
       "4        47209   29773      ORGANIC HASS AVOCADO\n",
       "5        47766   24689           ORGANIC AVOCADO\n",
       "6        47626   21495               LARGE LEMON\n",
       "7        16797   20018              STRAWBERRIES\n",
       "8        26209   19690                     LIMES\n",
       "9        27845   19600        ORGANIC WHOLE MILK\n",
       "10       27966   19197       ORGANIC RASPBERRIES\n",
       "11       22935   15898      ORGANIC YELLOW ONION\n",
       "12       24964   15292            ORGANIC GARLIC\n",
       "13       45007   14584          ORGANIC ZUCCHINI\n",
       "14       39275   13879       ORGANIC BLUEBERRIES\n",
       "15       49683   13675            CUCUMBER KIRBY\n",
       "16       28204   12544        ORGANIC FUJI APPLE\n",
       "17        5876   12232             ORGANIC LEMON\n",
       "18        8277   11993  APPLE HONEYCRISP ORGANIC\n",
       "19       40706   11781    ORGANIC GRAPE TOMATOES"
      ]
     },
     "execution_count": 101,
     "metadata": {},
     "output_type": "execute_result"
    }
   ],
   "source": [
    "con_name = df_products[['product_id', 'product_name']]\n",
    "\n",
    "resultado = pd.merge(df_popular, con_name, on = 'product_id')\n",
    "resultado.head(20)\n"
   ]
  },
  {
   "cell_type": "markdown",
   "id": "0bf8cab0-b82c-4b20-aa7a-4b1aca77cff2",
   "metadata": {},
   "source": [
    "Se puede evidenciar que entre los 20 productos mas populares son frutas organicas y verduras. La mas vendida es la banana"
   ]
  },
  {
   "cell_type": "markdown",
   "id": "7df00f47",
   "metadata": {
    "id": "7df00f47"
   },
   "source": [
    "Escribe aquí tus conclusiones"
   ]
  },
  {
   "cell_type": "markdown",
   "id": "e398e368-1c6b-4f10-bc7d-8665ae18234d",
   "metadata": {
    "id": "bbcdd20b"
   },
   "source": [
    "<div class=\"alert alert-block alert-success\">\n",
    "<b>Comentario del revisor (1ra Iteración)</b> <a class=“tocSkip”></a>\n",
    "\n",
    "¡Perfecto! Identificaste muy bien el Top 20 de productos más populares. Frutas como plátanos, fresas y aguacates lideran la lista, y hay una clara preferencia por los productos \"Organic\". Esto revela tendencias valiosas sobre los gustos y prioridades de los clientes.\n",
    "\n",
    "</div>"
   ]
  },
  {
   "cell_type": "markdown",
   "id": "gross-theme",
   "metadata": {
    "id": "gross-theme"
   },
   "source": [
    "# [C] Difícil (deben completarse todos para aprobar)\n",
    "\n",
    "1. ¿Cuántos artículos suelen comprar las personas en un pedido? ¿Cómo es la distribución?\n",
    "2. ¿Cuáles son los 20 principales artículos que vuelven a pedirse con mayor frecuencia (muestra sus nombres e IDs de los productos)?\n",
    "3. Para cada producto, ¿cuál es la tasa de repetición del pedido (número de repeticiones de pedido/total de pedidos?\n",
    "4. Para cada cliente, ¿qué proporción de los productos que pidió ya los había pedido? Calcula la tasa de repetición de pedido para cada usuario en lugar de para cada producto.\n",
    "5. ¿Cuáles son los 20 principales artículos que la gente pone primero en sus carritos (muestra las IDs de los productos, sus nombres, y el número de veces en que fueron el primer artículo en añadirse al carrito)?"
   ]
  },
  {
   "cell_type": "markdown",
   "id": "romantic-deposit",
   "metadata": {
    "id": "romantic-deposit"
   },
   "source": [
    "### [C1] ¿Cuántos artículos compran normalmente las personas en un pedido? ¿Cómo es la distribución?"
   ]
  },
  {
   "cell_type": "code",
   "execution_count": 105,
   "id": "virtual-punch",
   "metadata": {
    "id": "virtual-punch"
   },
   "outputs": [
    {
     "data": {
      "text/plain": [
       "order_id\n",
       "4          13\n",
       "9          15\n",
       "11          5\n",
       "19          3\n",
       "20          8\n",
       "           ..\n",
       "3421034    17\n",
       "3421053     9\n",
       "3421071     5\n",
       "3421077     4\n",
       "3421079     1\n",
       "Name: product_id, Length: 450046, dtype: int64"
      ]
     },
     "execution_count": 105,
     "metadata": {},
     "output_type": "execute_result"
    }
   ],
   "source": [
    "normalmente = df_order_products.groupby(['order_id'])#['product_id']\n",
    "normalmente.size().median()\n",
    "normalmente['product_id'].count()"
   ]
  },
  {
   "cell_type": "code",
   "execution_count": 142,
   "id": "sensitive-breathing",
   "metadata": {
    "id": "sensitive-breathing",
    "scrolled": true
   },
   "outputs": [
    {
     "data": {
      "text/plain": [
       "order_id    3421079\n",
       "count           127\n",
       "dtype: int64"
      ]
     },
     "execution_count": 142,
     "metadata": {},
     "output_type": "execute_result"
    }
   ],
   "source": [
    "\n",
    "tt = normalmente['product_id'].count().reset_index()\n",
    "\n",
    "tt.columns =['order_id','count']\n",
    "#tt['count'].value_counts().sort_values(ascending=False)\n",
    "#tt.columns= ['productos','clientes']\n",
    "#normalmente.count()\n",
    "tt.max()"
   ]
  },
  {
   "cell_type": "code",
   "execution_count": 141,
   "id": "6291b7a1-0e71-4b43-9646-7bcd8dec1fb3",
   "metadata": {},
   "outputs": [
    {
     "data": {
      "image/png": "[encoded data removed]",
      "text/plain": [
       "<Figure size 1000x500 with 1 Axes>"
      ]
     },
     "metadata": {},
     "output_type": "display_data"
    }
   ],
   "source": [
    "tt['count'].plot(kind='hist', bins=127, legend=False, figsize=(10,5))\n",
    "plt.title('Proporcion de productos en los pedidos')\n",
    "plt.xlabel('Cantidad productos')\n",
    "plt.ylabel('Cantidad pedidos')\n",
    "plt.show()"
   ]
  },
  {
   "cell_type": "markdown",
   "id": "51febd3d-67cc-43a3-b731-f53ebc867fb7",
   "metadata": {},
   "source": [
    "lo que nos indica la grafica es la tendencia que en los pedidos se añadan 5 productos al carrito. \n",
    "Como se puede ver en la distribucion, despues de 5 productos empieza a disminuir la cantidad de pedidos que se llevan mas productos. Hay mas clientes que se llevan un solo producto que 11 productos en una sola orden.\n"
   ]
  },
  {
   "cell_type": "markdown",
   "id": "abf592ee-af6d-40ff-bf59-5712c819d284",
   "metadata": {},
   "source": [
    "<div class=\"alert alert-block alert-danger\">\n",
    "<b>Comentario del revisor (1ra Iteración)</b> <a class=“tocSkip”></a>\n",
    "\n",
    "Jean ten en cuenta que estás analizando los datos por departamento, pero realmente necesitamos estudiar al cantidad de productos por pedido. En ese orden de ideas, lo correcto sería agrupar los datos por *order_id* y luego contar los productos (*product_id*). Finalmente graficar la distribución\n",
    "\n",
    "</div>"
   ]
  },
  {
   "cell_type": "markdown",
   "id": "de2ac967-ccf2-4455-a632-0c904b52ca8d",
   "metadata": {},
   "source": [
    "<div class=\"alert alert-block alert-success\">\n",
    "<b>Comentario del revisor (2da Iteración)</b> <a class=“tocSkip”></a>\n",
    "\n",
    "¡Magnífico trabajo! La distribución sugiere compras frecuentes y en pequeñas cantidades. Esto podría indicar que los clientes valoran la frescura o la conveniencia al comprar según sus necesidades del momento.\n",
    "\n",
    "</div>"
   ]
  },
  {
   "cell_type": "markdown",
   "id": "5e6b5537",
   "metadata": {
    "id": "5e6b5537"
   },
   "source": [
    "### [C2] ¿Cuáles son los 20 principales artículos que vuelven a pedirse con mayor frecuencia (muestra sus nombres e IDs de los productos)?"
   ]
  },
  {
   "cell_type": "code",
   "execution_count": 146,
   "id": "9374e55a",
   "metadata": {
    "id": "9374e55a"
   },
   "outputs": [
    {
     "data": {
      "text/html": [
       "<div>\n",
       "<style scoped>\n",
       "    .dataframe tbody tr th:only-of-type {\n",
       "        vertical-align: middle;\n",
       "    }\n",
       "\n",
       "    .dataframe tbody tr th {\n",
       "        vertical-align: top;\n",
       "    }\n",
       "\n",
       "    .dataframe thead th {\n",
       "        text-align: right;\n",
       "    }\n",
       "</style>\n",
       "<table border=\"1\" class=\"dataframe\">\n",
       "  <thead>\n",
       "    <tr style=\"text-align: right;\">\n",
       "      <th></th>\n",
       "      <th>product_name</th>\n",
       "      <th>product_id</th>\n",
       "      <th>reordered</th>\n",
       "    </tr>\n",
       "  </thead>\n",
       "  <tbody>\n",
       "    <tr>\n",
       "      <th>0</th>\n",
       "      <td>BANANA</td>\n",
       "      <td>24852</td>\n",
       "      <td>55763</td>\n",
       "    </tr>\n",
       "    <tr>\n",
       "      <th>1</th>\n",
       "      <td>BAG OF ORGANIC BANANAS</td>\n",
       "      <td>13176</td>\n",
       "      <td>44450</td>\n",
       "    </tr>\n",
       "    <tr>\n",
       "      <th>2</th>\n",
       "      <td>ORGANIC STRAWBERRIES</td>\n",
       "      <td>21137</td>\n",
       "      <td>28639</td>\n",
       "    </tr>\n",
       "    <tr>\n",
       "      <th>3</th>\n",
       "      <td>ORGANIC BABY SPINACH</td>\n",
       "      <td>21903</td>\n",
       "      <td>26233</td>\n",
       "    </tr>\n",
       "    <tr>\n",
       "      <th>4</th>\n",
       "      <td>ORGANIC HASS AVOCADO</td>\n",
       "      <td>47209</td>\n",
       "      <td>23629</td>\n",
       "    </tr>\n",
       "    <tr>\n",
       "      <th>5</th>\n",
       "      <td>ORGANIC AVOCADO</td>\n",
       "      <td>47766</td>\n",
       "      <td>18743</td>\n",
       "    </tr>\n",
       "    <tr>\n",
       "      <th>6</th>\n",
       "      <td>ORGANIC WHOLE MILK</td>\n",
       "      <td>27845</td>\n",
       "      <td>16251</td>\n",
       "    </tr>\n",
       "    <tr>\n",
       "      <th>7</th>\n",
       "      <td>LARGE LEMON</td>\n",
       "      <td>47626</td>\n",
       "      <td>15044</td>\n",
       "    </tr>\n",
       "    <tr>\n",
       "      <th>8</th>\n",
       "      <td>ORGANIC RASPBERRIES</td>\n",
       "      <td>27966</td>\n",
       "      <td>14748</td>\n",
       "    </tr>\n",
       "    <tr>\n",
       "      <th>9</th>\n",
       "      <td>STRAWBERRIES</td>\n",
       "      <td>16797</td>\n",
       "      <td>13945</td>\n",
       "    </tr>\n",
       "    <tr>\n",
       "      <th>10</th>\n",
       "      <td>LIMES</td>\n",
       "      <td>26209</td>\n",
       "      <td>13327</td>\n",
       "    </tr>\n",
       "    <tr>\n",
       "      <th>11</th>\n",
       "      <td>ORGANIC YELLOW ONION</td>\n",
       "      <td>22935</td>\n",
       "      <td>11145</td>\n",
       "    </tr>\n",
       "    <tr>\n",
       "      <th>12</th>\n",
       "      <td>ORGANIC GARLIC</td>\n",
       "      <td>24964</td>\n",
       "      <td>10411</td>\n",
       "    </tr>\n",
       "    <tr>\n",
       "      <th>13</th>\n",
       "      <td>ORGANIC ZUCCHINI</td>\n",
       "      <td>45007</td>\n",
       "      <td>10076</td>\n",
       "    </tr>\n",
       "    <tr>\n",
       "      <th>14</th>\n",
       "      <td>CUCUMBER KIRBY</td>\n",
       "      <td>49683</td>\n",
       "      <td>9538</td>\n",
       "    </tr>\n",
       "    <tr>\n",
       "      <th>15</th>\n",
       "      <td>ORGANIC FUJI APPLE</td>\n",
       "      <td>28204</td>\n",
       "      <td>8989</td>\n",
       "    </tr>\n",
       "    <tr>\n",
       "      <th>16</th>\n",
       "      <td>APPLE HONEYCRISP ORGANIC</td>\n",
       "      <td>8277</td>\n",
       "      <td>8836</td>\n",
       "    </tr>\n",
       "    <tr>\n",
       "      <th>17</th>\n",
       "      <td>ORGANIC BLUEBERRIES</td>\n",
       "      <td>39275</td>\n",
       "      <td>8799</td>\n",
       "    </tr>\n",
       "    <tr>\n",
       "      <th>18</th>\n",
       "      <td>ORGANIC LEMON</td>\n",
       "      <td>5876</td>\n",
       "      <td>8412</td>\n",
       "    </tr>\n",
       "    <tr>\n",
       "      <th>19</th>\n",
       "      <td>ORGANIC HALF &amp; HALF</td>\n",
       "      <td>49235</td>\n",
       "      <td>8389</td>\n",
       "    </tr>\n",
       "  </tbody>\n",
       "</table>\n",
       "</div>"
      ],
      "text/plain": [
       "                product_name  product_id  reordered\n",
       "0                     BANANA       24852      55763\n",
       "1     BAG OF ORGANIC BANANAS       13176      44450\n",
       "2       ORGANIC STRAWBERRIES       21137      28639\n",
       "3       ORGANIC BABY SPINACH       21903      26233\n",
       "4       ORGANIC HASS AVOCADO       47209      23629\n",
       "5            ORGANIC AVOCADO       47766      18743\n",
       "6         ORGANIC WHOLE MILK       27845      16251\n",
       "7                LARGE LEMON       47626      15044\n",
       "8        ORGANIC RASPBERRIES       27966      14748\n",
       "9               STRAWBERRIES       16797      13945\n",
       "10                     LIMES       26209      13327\n",
       "11      ORGANIC YELLOW ONION       22935      11145\n",
       "12            ORGANIC GARLIC       24964      10411\n",
       "13          ORGANIC ZUCCHINI       45007      10076\n",
       "14            CUCUMBER KIRBY       49683       9538\n",
       "15        ORGANIC FUJI APPLE       28204       8989\n",
       "16  APPLE HONEYCRISP ORGANIC        8277       8836\n",
       "17       ORGANIC BLUEBERRIES       39275       8799\n",
       "18             ORGANIC LEMON        5876       8412\n",
       "19       ORGANIC HALF & HALF       49235       8389"
      ]
     },
     "execution_count": 146,
     "metadata": {},
     "output_type": "execute_result"
    }
   ],
   "source": [
    "fusion = pd.merge(df_order_products,df_products, on='product_id')\n",
    "C2 = fusion.loc[fusion['reordered']==1]\n",
    "C2_1 = C2.groupby(['product_name','product_id'])['reordered'].sum().sort_values(ascending=False).reset_index()\n",
    "C2_1.head(20)"
   ]
  },
  {
   "cell_type": "markdown",
   "id": "d87e995d-c487-49be-80ae-157b5ade5b14",
   "metadata": {
    "id": "possible-change",
    "scrolled": true
   },
   "source": [
    "Se puede evidenciar que  los 20  productos mas vuelven a pedirse coinciden con los 20 productos mas populares"
   ]
  },
  {
   "cell_type": "code",
   "execution_count": 108,
   "id": "professional-surfing",
   "metadata": {
    "id": "professional-surfing",
    "scrolled": true
   },
   "outputs": [
    {
     "name": "stdout",
     "output_type": "stream",
     "text": [
      "<class 'pandas.core.frame.DataFrame'>\n",
      "RangeIndex: 49694 entries, 0 to 49693\n",
      "Data columns (total 4 columns):\n",
      " #   Column         Non-Null Count  Dtype \n",
      "---  ------         --------------  ----- \n",
      " 0   product_id     49694 non-null  int64 \n",
      " 1   product_name   49694 non-null  object\n",
      " 2   aisle_id       49694 non-null  int64 \n",
      " 3   department_id  49694 non-null  int64 \n",
      "dtypes: int64(3), object(1)\n",
      "memory usage: 1.5+ MB\n"
     ]
    }
   ],
   "source": [
    "df_products.info(show_counts=True)\n"
   ]
  },
  {
   "cell_type": "markdown",
   "id": "3acf1f51-4986-461e-847e-16dbdabeef05",
   "metadata": {
    "id": "48dd3658"
   },
   "source": [
    "<div class=\"alert alert-block alert-success\">\n",
    "<b>Comentario del revisor (1ra Iteración)</b> <a class=“tocSkip”></a>\n",
    "\n",
    "¡Gran trabajo! Identificaste muy bien el Top 20 de productos más reordenados, y coincide con la lista anterior. Se destacan productos agrícolas y lácteos, lo cual es lógico por su consumo frecuente. Esto muestra un patrón de compra muy coherente con las necesidades diarias.\n",
    "\n",
    "</div>"
   ]
  },
  {
   "cell_type": "markdown",
   "id": "80e70c74",
   "metadata": {
    "id": "80e70c74"
   },
   "source": [
    "Escribe aquí tus conclusiones"
   ]
  },
  {
   "cell_type": "markdown",
   "id": "9d312b14",
   "metadata": {
    "id": "9d312b14"
   },
   "source": [
    "### [C3] Para cada producto, ¿cuál es la proporción de las veces que se pide y que se vuelve a pedir?"
   ]
  },
  {
   "cell_type": "code",
   "execution_count": 110,
   "id": "81e42d9c-cc5f-4c18-9097-0b87ee3807b7",
   "metadata": {},
   "outputs": [
    {
     "data": {
      "text/html": [
       "<div>\n",
       "<style scoped>\n",
       "    .dataframe tbody tr th:only-of-type {\n",
       "        vertical-align: middle;\n",
       "    }\n",
       "\n",
       "    .dataframe tbody tr th {\n",
       "        vertical-align: top;\n",
       "    }\n",
       "\n",
       "    .dataframe thead th {\n",
       "        text-align: right;\n",
       "    }\n",
       "</style>\n",
       "<table border=\"1\" class=\"dataframe\">\n",
       "  <thead>\n",
       "    <tr style=\"text-align: right;\">\n",
       "      <th></th>\n",
       "      <th>product_id</th>\n",
       "      <th>reorder_rate</th>\n",
       "    </tr>\n",
       "  </thead>\n",
       "  <tbody>\n",
       "    <tr>\n",
       "      <th>0</th>\n",
       "      <td>1</td>\n",
       "      <td>0.564286</td>\n",
       "    </tr>\n",
       "    <tr>\n",
       "      <th>1</th>\n",
       "      <td>2</td>\n",
       "      <td>0.000000</td>\n",
       "    </tr>\n",
       "    <tr>\n",
       "      <th>2</th>\n",
       "      <td>3</td>\n",
       "      <td>0.738095</td>\n",
       "    </tr>\n",
       "    <tr>\n",
       "      <th>3</th>\n",
       "      <td>4</td>\n",
       "      <td>0.510204</td>\n",
       "    </tr>\n",
       "    <tr>\n",
       "      <th>4</th>\n",
       "      <td>7</td>\n",
       "      <td>0.500000</td>\n",
       "    </tr>\n",
       "    <tr>\n",
       "      <th>...</th>\n",
       "      <td>...</td>\n",
       "      <td>...</td>\n",
       "    </tr>\n",
       "    <tr>\n",
       "      <th>45568</th>\n",
       "      <td>49690</td>\n",
       "      <td>0.800000</td>\n",
       "    </tr>\n",
       "    <tr>\n",
       "      <th>45569</th>\n",
       "      <td>49691</td>\n",
       "      <td>0.430556</td>\n",
       "    </tr>\n",
       "    <tr>\n",
       "      <th>45570</th>\n",
       "      <td>49692</td>\n",
       "      <td>0.416667</td>\n",
       "    </tr>\n",
       "    <tr>\n",
       "      <th>45571</th>\n",
       "      <td>49693</td>\n",
       "      <td>0.440000</td>\n",
       "    </tr>\n",
       "    <tr>\n",
       "      <th>45572</th>\n",
       "      <td>49694</td>\n",
       "      <td>0.333333</td>\n",
       "    </tr>\n",
       "  </tbody>\n",
       "</table>\n",
       "<p>45573 rows × 2 columns</p>\n",
       "</div>"
      ],
      "text/plain": [
       "       product_id  reorder_rate\n",
       "0               1      0.564286\n",
       "1               2      0.000000\n",
       "2               3      0.738095\n",
       "3               4      0.510204\n",
       "4               7      0.500000\n",
       "...           ...           ...\n",
       "45568       49690      0.800000\n",
       "45569       49691      0.430556\n",
       "45570       49692      0.416667\n",
       "45571       49693      0.440000\n",
       "45572       49694      0.333333\n",
       "\n",
       "[45573 rows x 2 columns]"
      ]
     },
     "execution_count": 110,
     "metadata": {},
     "output_type": "execute_result"
    }
   ],
   "source": [
    "pct_reordered = df_order_products.groupby(['product_id'])['reordered'].mean()\n",
    "pct_reordered.sort_values(ascending=False)\n",
    "pct_df_reor = pct_reordered.reset_index()\n",
    "pct_df_reor.columns = ['product_id', 'reorder_rate']\n",
    "pct_df_reor"
   ]
  },
  {
   "cell_type": "code",
   "execution_count": 145,
   "id": "a5e1b2a0-9c2b-473a-b0ba-856955a95ebf",
   "metadata": {},
   "outputs": [
    {
     "data": {
      "image/png": "[encoded data removed]",
      "text/plain": [
       "<Figure size 1000x500 with 1 Axes>"
      ]
     },
     "metadata": {},
     "output_type": "display_data"
    }
   ],
   "source": [
    "\n",
    "pct_df_reor['reorder_rate'].plot(kind='hist', bins=20, legend=False, figsize=(10,5))\n",
    "plt.title('Porcentaje de reordenamiento por producto')\n",
    "plt.xlabel('Porcentaje de reorden (%)')\n",
    "plt.ylabel('Frecuencia a pedir')\n",
    "plt.show()"
   ]
  },
  {
   "cell_type": "markdown",
   "id": "a2643041-c28b-42f9-a61c-9ad36992c896",
   "metadata": {
    "id": "social-individual"
   },
   "source": [
    "<div class=\"alert alert-block alert-danger\">\n",
    "<b>Comentario del revisor (1ra Iteración)</b> <a class=“tocSkip”></a>\n",
    "\n",
    "Para dar respuesta a esta pregunta debes usar la información de la columna `reordered` del dataset **order_products.csv**. Esta columna tiene valores de 0 y 1, por lo que si agrupas los datos por `product_id` y calculas la **media**, podrás determinar la proporción de veces que se pide y se vuelve a pedir un producto. Inicialmente, obtendrás una lista con los productos y su proporción, lo cual no dice mucho realmente ya que tenemos muchos datos. Te recomiendo graficarlos en un histograma para visualizar su distribución y poder sacar conclusiones más claras sobre su comportamiento.\n",
    "\n",
    "</div>"
   ]
  },
  {
   "cell_type": "markdown",
   "id": "65282c37-c26c-461d-a315-6281fd6f1192",
   "metadata": {},
   "source": [
    "<div class=\"alert alert-block alert-success\">\n",
    "<b>Comentario del revisor (2da Iteración)</b> <a class=“tocSkip”></a>\n",
    "\n",
    "¡Excelente trabajo calculando la tasa de reorden! Esta métrica es clave para identificar productos esenciales y tomar decisiones como mantener stock o aplicar descuentos. Además, sirve como base para modelos que predicen compras futuras y mejoran la gestión del inventario.\n",
    "\n",
    "</div>"
   ]
  },
  {
   "cell_type": "markdown",
   "id": "I10dEIAyldcO",
   "metadata": {
    "id": "I10dEIAyldcO"
   },
   "source": [
    "Hay mas personas que vuelven a pedir el 10% de los productos ya pedidos\n",
    "El segundo pico indica que tambien hay mas personas que se vuelven a llevar el 50% de sus productos ya pedidos."
   ]
  },
  {
   "cell_type": "markdown",
   "id": "203a1899-ace1-428e-a292-855fef649d32",
   "metadata": {
    "id": "subject-boxing"
   },
   "source": [
    "### [C4] Para cada cliente, ¿qué proporción de sus productos ya los había pedido?"
   ]
  },
  {
   "cell_type": "code",
   "execution_count": 112,
   "id": "medical-couple",
   "metadata": {
    "id": "medical-couple",
    "scrolled": true
   },
   "outputs": [
    {
     "data": {
      "text/html": [
       "<div>\n",
       "<style scoped>\n",
       "    .dataframe tbody tr th:only-of-type {\n",
       "        vertical-align: middle;\n",
       "    }\n",
       "\n",
       "    .dataframe tbody tr th {\n",
       "        vertical-align: top;\n",
       "    }\n",
       "\n",
       "    .dataframe thead th {\n",
       "        text-align: right;\n",
       "    }\n",
       "</style>\n",
       "<table border=\"1\" class=\"dataframe\">\n",
       "  <thead>\n",
       "    <tr style=\"text-align: right;\">\n",
       "      <th></th>\n",
       "      <th>total_compras</th>\n",
       "      <th>reorders</th>\n",
       "      <th>proporcion_reorders</th>\n",
       "    </tr>\n",
       "    <tr>\n",
       "      <th>user_id</th>\n",
       "      <th></th>\n",
       "      <th></th>\n",
       "      <th></th>\n",
       "    </tr>\n",
       "  </thead>\n",
       "  <tbody>\n",
       "    <tr>\n",
       "      <th>2</th>\n",
       "      <td>13</td>\n",
       "      <td>1</td>\n",
       "      <td>0.076923</td>\n",
       "    </tr>\n",
       "    <tr>\n",
       "      <th>4</th>\n",
       "      <td>2</td>\n",
       "      <td>0</td>\n",
       "      <td>0.000000</td>\n",
       "    </tr>\n",
       "    <tr>\n",
       "      <th>5</th>\n",
       "      <td>12</td>\n",
       "      <td>8</td>\n",
       "      <td>0.666667</td>\n",
       "    </tr>\n",
       "    <tr>\n",
       "      <th>7</th>\n",
       "      <td>14</td>\n",
       "      <td>13</td>\n",
       "      <td>0.928571</td>\n",
       "    </tr>\n",
       "    <tr>\n",
       "      <th>11</th>\n",
       "      <td>15</td>\n",
       "      <td>3</td>\n",
       "      <td>0.200000</td>\n",
       "    </tr>\n",
       "    <tr>\n",
       "      <th>...</th>\n",
       "      <td>...</td>\n",
       "      <td>...</td>\n",
       "      <td>...</td>\n",
       "    </tr>\n",
       "    <tr>\n",
       "      <th>206203</th>\n",
       "      <td>27</td>\n",
       "      <td>6</td>\n",
       "      <td>0.222222</td>\n",
       "    </tr>\n",
       "    <tr>\n",
       "      <th>206206</th>\n",
       "      <td>21</td>\n",
       "      <td>15</td>\n",
       "      <td>0.714286</td>\n",
       "    </tr>\n",
       "    <tr>\n",
       "      <th>206207</th>\n",
       "      <td>46</td>\n",
       "      <td>41</td>\n",
       "      <td>0.891304</td>\n",
       "    </tr>\n",
       "    <tr>\n",
       "      <th>206208</th>\n",
       "      <td>125</td>\n",
       "      <td>87</td>\n",
       "      <td>0.696000</td>\n",
       "    </tr>\n",
       "    <tr>\n",
       "      <th>206209</th>\n",
       "      <td>25</td>\n",
       "      <td>8</td>\n",
       "      <td>0.320000</td>\n",
       "    </tr>\n",
       "  </tbody>\n",
       "</table>\n",
       "<p>140514 rows × 3 columns</p>\n",
       "</div>"
      ],
      "text/plain": [
       "         total_compras  reorders  proporcion_reorders\n",
       "user_id                                              \n",
       "2                   13         1             0.076923\n",
       "4                    2         0             0.000000\n",
       "5                   12         8             0.666667\n",
       "7                   14        13             0.928571\n",
       "11                  15         3             0.200000\n",
       "...                ...       ...                  ...\n",
       "206203              27         6             0.222222\n",
       "206206              21        15             0.714286\n",
       "206207              46        41             0.891304\n",
       "206208             125        87             0.696000\n",
       "206209              25         8             0.320000\n",
       "\n",
       "[140514 rows x 3 columns]"
      ]
     },
     "execution_count": 112,
     "metadata": {},
     "output_type": "execute_result"
    }
   ],
   "source": [
    "\n",
    "combinado = pd.merge(df_order_no_nan, fusion , on='order_id')\n",
    "\n",
    "pct_client= combinado.groupby('user_id')['reordered'].agg(\n",
    "    total_compras='count',\n",
    "    reorders='sum'\n",
    ")\n",
    "pct_client['proporcion_reorders'] = pct_client['reorders'] / pct_client['total_compras']\n",
    "\n",
    "pct_client"
   ]
  },
  {
   "cell_type": "code",
   "execution_count": 113,
   "id": "8892e4b4",
   "metadata": {
    "id": "8892e4b4"
   },
   "outputs": [
    {
     "data": {
      "text/html": [
       "<div>\n",
       "<style scoped>\n",
       "    .dataframe tbody tr th:only-of-type {\n",
       "        vertical-align: middle;\n",
       "    }\n",
       "\n",
       "    .dataframe tbody tr th {\n",
       "        vertical-align: top;\n",
       "    }\n",
       "\n",
       "    .dataframe thead th {\n",
       "        text-align: right;\n",
       "    }\n",
       "</style>\n",
       "<table border=\"1\" class=\"dataframe\">\n",
       "  <thead>\n",
       "    <tr style=\"text-align: right;\">\n",
       "      <th></th>\n",
       "      <th>total_compras</th>\n",
       "      <th>reorders</th>\n",
       "      <th>proporcion_reorders</th>\n",
       "    </tr>\n",
       "    <tr>\n",
       "      <th>user_id</th>\n",
       "      <th></th>\n",
       "      <th></th>\n",
       "      <th></th>\n",
       "    </tr>\n",
       "  </thead>\n",
       "  <tbody>\n",
       "    <tr>\n",
       "      <th>22</th>\n",
       "      <td>6</td>\n",
       "      <td>6</td>\n",
       "      <td>1.0</td>\n",
       "    </tr>\n",
       "    <tr>\n",
       "      <th>68</th>\n",
       "      <td>4</td>\n",
       "      <td>4</td>\n",
       "      <td>1.0</td>\n",
       "    </tr>\n",
       "    <tr>\n",
       "      <th>88</th>\n",
       "      <td>1</td>\n",
       "      <td>1</td>\n",
       "      <td>1.0</td>\n",
       "    </tr>\n",
       "    <tr>\n",
       "      <th>97</th>\n",
       "      <td>1</td>\n",
       "      <td>1</td>\n",
       "      <td>1.0</td>\n",
       "    </tr>\n",
       "    <tr>\n",
       "      <th>104</th>\n",
       "      <td>1</td>\n",
       "      <td>1</td>\n",
       "      <td>1.0</td>\n",
       "    </tr>\n",
       "    <tr>\n",
       "      <th>...</th>\n",
       "      <td>...</td>\n",
       "      <td>...</td>\n",
       "      <td>...</td>\n",
       "    </tr>\n",
       "    <tr>\n",
       "      <th>206066</th>\n",
       "      <td>2</td>\n",
       "      <td>2</td>\n",
       "      <td>1.0</td>\n",
       "    </tr>\n",
       "    <tr>\n",
       "      <th>206073</th>\n",
       "      <td>1</td>\n",
       "      <td>1</td>\n",
       "      <td>1.0</td>\n",
       "    </tr>\n",
       "    <tr>\n",
       "      <th>206120</th>\n",
       "      <td>10</td>\n",
       "      <td>10</td>\n",
       "      <td>1.0</td>\n",
       "    </tr>\n",
       "    <tr>\n",
       "      <th>206127</th>\n",
       "      <td>1</td>\n",
       "      <td>1</td>\n",
       "      <td>1.0</td>\n",
       "    </tr>\n",
       "    <tr>\n",
       "      <th>206164</th>\n",
       "      <td>1</td>\n",
       "      <td>1</td>\n",
       "      <td>1.0</td>\n",
       "    </tr>\n",
       "  </tbody>\n",
       "</table>\n",
       "<p>9435 rows × 3 columns</p>\n",
       "</div>"
      ],
      "text/plain": [
       "         total_compras  reorders  proporcion_reorders\n",
       "user_id                                              \n",
       "22                   6         6                  1.0\n",
       "68                   4         4                  1.0\n",
       "88                   1         1                  1.0\n",
       "97                   1         1                  1.0\n",
       "104                  1         1                  1.0\n",
       "...                ...       ...                  ...\n",
       "206066               2         2                  1.0\n",
       "206073               1         1                  1.0\n",
       "206120              10        10                  1.0\n",
       "206127               1         1                  1.0\n",
       "206164               1         1                  1.0\n",
       "\n",
       "[9435 rows x 3 columns]"
      ]
     },
     "execution_count": 113,
     "metadata": {},
     "output_type": "execute_result"
    }
   ],
   "source": [
    "pct_client[pct_client['proporcion_reorders']==1] #personas que pidieron exactamnte lo mismo en el siguiente pedido."
   ]
  },
  {
   "cell_type": "code",
   "execution_count": 114,
   "id": "6d0c7234-31ac-4558-82b8-c94e04d63727",
   "metadata": {},
   "outputs": [
    {
     "data": {
      "text/html": [
       "<div>\n",
       "<style scoped>\n",
       "    .dataframe tbody tr th:only-of-type {\n",
       "        vertical-align: middle;\n",
       "    }\n",
       "\n",
       "    .dataframe tbody tr th {\n",
       "        vertical-align: top;\n",
       "    }\n",
       "\n",
       "    .dataframe thead th {\n",
       "        text-align: right;\n",
       "    }\n",
       "</style>\n",
       "<table border=\"1\" class=\"dataframe\">\n",
       "  <thead>\n",
       "    <tr style=\"text-align: right;\">\n",
       "      <th></th>\n",
       "      <th>total_compras</th>\n",
       "      <th>reorders</th>\n",
       "      <th>proporcion_reorders</th>\n",
       "    </tr>\n",
       "    <tr>\n",
       "      <th>user_id</th>\n",
       "      <th></th>\n",
       "      <th></th>\n",
       "      <th></th>\n",
       "    </tr>\n",
       "  </thead>\n",
       "  <tbody>\n",
       "    <tr>\n",
       "      <th>4</th>\n",
       "      <td>2</td>\n",
       "      <td>0</td>\n",
       "      <td>0.0</td>\n",
       "    </tr>\n",
       "    <tr>\n",
       "      <th>57</th>\n",
       "      <td>3</td>\n",
       "      <td>0</td>\n",
       "      <td>0.0</td>\n",
       "    </tr>\n",
       "    <tr>\n",
       "      <th>66</th>\n",
       "      <td>1</td>\n",
       "      <td>0</td>\n",
       "      <td>0.0</td>\n",
       "    </tr>\n",
       "    <tr>\n",
       "      <th>78</th>\n",
       "      <td>11</td>\n",
       "      <td>0</td>\n",
       "      <td>0.0</td>\n",
       "    </tr>\n",
       "    <tr>\n",
       "      <th>101</th>\n",
       "      <td>1</td>\n",
       "      <td>0</td>\n",
       "      <td>0.0</td>\n",
       "    </tr>\n",
       "    <tr>\n",
       "      <th>...</th>\n",
       "      <td>...</td>\n",
       "      <td>...</td>\n",
       "      <td>...</td>\n",
       "    </tr>\n",
       "    <tr>\n",
       "      <th>206136</th>\n",
       "      <td>6</td>\n",
       "      <td>0</td>\n",
       "      <td>0.0</td>\n",
       "    </tr>\n",
       "    <tr>\n",
       "      <th>206153</th>\n",
       "      <td>6</td>\n",
       "      <td>0</td>\n",
       "      <td>0.0</td>\n",
       "    </tr>\n",
       "    <tr>\n",
       "      <th>206156</th>\n",
       "      <td>4</td>\n",
       "      <td>0</td>\n",
       "      <td>0.0</td>\n",
       "    </tr>\n",
       "    <tr>\n",
       "      <th>206175</th>\n",
       "      <td>7</td>\n",
       "      <td>0</td>\n",
       "      <td>0.0</td>\n",
       "    </tr>\n",
       "    <tr>\n",
       "      <th>206184</th>\n",
       "      <td>9</td>\n",
       "      <td>0</td>\n",
       "      <td>0.0</td>\n",
       "    </tr>\n",
       "  </tbody>\n",
       "</table>\n",
       "<p>7523 rows × 3 columns</p>\n",
       "</div>"
      ],
      "text/plain": [
       "         total_compras  reorders  proporcion_reorders\n",
       "user_id                                              \n",
       "4                    2         0                  0.0\n",
       "57                   3         0                  0.0\n",
       "66                   1         0                  0.0\n",
       "78                  11         0                  0.0\n",
       "101                  1         0                  0.0\n",
       "...                ...       ...                  ...\n",
       "206136               6         0                  0.0\n",
       "206153               6         0                  0.0\n",
       "206156               4         0                  0.0\n",
       "206175               7         0                  0.0\n",
       "206184               9         0                  0.0\n",
       "\n",
       "[7523 rows x 3 columns]"
      ]
     },
     "execution_count": 114,
     "metadata": {},
     "output_type": "execute_result"
    }
   ],
   "source": [
    "pct_client[pct_client['proporcion_reorders']==0] # personas que no volvieron a pedir"
   ]
  },
  {
   "cell_type": "code",
   "execution_count": 121,
   "id": "bc61a998-ac06-4cd0-8f8a-6b04dfc7b5d8",
   "metadata": {},
   "outputs": [
    {
     "data": {
      "image/png": "[encoded data removed]",
      "text/plain": [
       "<Figure size 1000x500 with 1 Axes>"
      ]
     },
     "metadata": {},
     "output_type": "display_data"
    }
   ],
   "source": [
    "pct_client['proporcion_reorders'].plot(kind='hist', bins=20, legend=False, figsize=(10,5))\n",
    "plt.title('Pedidos de los clientes')\n",
    "plt.xlabel('Vueltos a pedir (%)')\n",
    "plt.ylabel('Cantidad de productos')\n",
    "plt.show()"
   ]
  },
  {
   "cell_type": "markdown",
   "id": "BgJSvXDsleXz",
   "metadata": {
    "id": "BgJSvXDsleXz"
   },
   "source": [
    "En la grafica se puede ver que el pico mas alto indica que vuelven a pedir el 100% de los productos ya pedidos enteriormente, luego esta el segundo pico con 50% de los productos ya pedidos y finalmente el 10% de los productos ya pedidos."
   ]
  },
  {
   "cell_type": "markdown",
   "id": "2669b9bb-b159-4f14-bdad-b0ae07f1b518",
   "metadata": {},
   "source": [
    "<div class=\"alert alert-block alert-warning\">\n",
    "<b>Comentario del revisor (1ra Iteración)</b> <a class=“tocSkip”></a>\n",
    "\n",
    "Aunque los cálculos son correcto, esta tabla por sí sola no dice mucho, sobre todo porque tenemos muchos clientes. Te recomiendo graficarlos en un histograma para visualizar su distribución y poder sacar conclusiones más claras sobre su comportamiento.\n",
    "\n",
    "</div>"
   ]
  },
  {
   "cell_type": "markdown",
   "id": "af0f46c9-9082-4c03-989c-383f56283191",
   "metadata": {},
   "source": [
    "<div class=\"alert alert-block alert-success\">\n",
    "<b>Comentario del revisor (2da Iteración)</b> <a class=“tocSkip”></a>\n",
    "\n",
    "Buen trabajo Jean, con la gráfica el análisis es más detallado sobre la distribución de los datos\n",
    "\n",
    "</div>"
   ]
  },
  {
   "cell_type": "markdown",
   "id": "92d35137",
   "metadata": {
    "id": "92d35137"
   },
   "source": [
    "### [C5] ¿Cuáles son los 20 principales artículos que las personas ponen primero en sus carritos?"
   ]
  },
  {
   "cell_type": "code",
   "execution_count": null,
   "id": "0ae57274",
   "metadata": {
    "id": "0ae57274",
    "scrolled": true
   },
   "outputs": [],
   "source": [
    "primeros = fusion[fusion['add_to_cart_order'] == 1]\n",
    "top = primeros['product_name'].value_counts()\n",
    "\n",
    "top.head(20)\n"
   ]
  },
  {
   "cell_type": "code",
   "execution_count": null,
   "id": "forty-netherlands",
   "metadata": {
    "id": "forty-netherlands",
    "scrolled": true
   },
   "outputs": [],
   "source": []
  },
  {
   "cell_type": "markdown",
   "id": "28ce9872",
   "metadata": {
    "id": "28ce9872"
   },
   "source": [
    "El DF de los mas populares se parece un poco con el DF de los objetos que las personas ponen de primeras en su carrito. Sin mebargo, la cantidad baja mucho con respecto a la cantidad de los populares."
   ]
  },
  {
   "cell_type": "markdown",
   "id": "296211a6-e62e-433f-b2b9-2e1f7546ee2b",
   "metadata": {
    "id": "08e41ec2"
   },
   "source": [
    "<div class=\"alert alert-block alert-success\">\n",
    "<b>Comentario del revisor (1ra Iteración)</b> <a class=“tocSkip”></a>\n",
    "\n",
    "¡Excelente trabajo identificando el Top 20 de productos agregados primero al carrito! Se nota una clara preferencia por frutas frescas y productos orgánicos. Estos artículos funcionan como “productos ancla” en las compras, además esta información será muy útil para mejorar la tienda, el inventario y las estrategias de marketing.\n",
    "\n",
    "</div>"
   ]
  },
  {
   "cell_type": "markdown",
   "id": "uITbFCEoDosC",
   "metadata": {
    "id": "uITbFCEoDosC"
   },
   "source": [
    "### Conclusion general del proyecto:"
   ]
  },
  {
   "cell_type": "markdown",
   "id": "dd2393b9-ced5-4ef5-ae38-bfd8942c03cf",
   "metadata": {
    "id": "Nk-4GS7mDwqY"
   },
   "source": [
    "En general se denota que los productos extrellas son los productos organicos. Los dias miercoles y sabado se vende casi lo mismo en las mismas horas. Hay muchisimos clientes que compran solo una vez y la cantidad de volver a pedir productos disminuye notablemnete, lo cual indica una baja fidelizacion del cliente."
   ]
  }
 ],
 "metadata": {
  "colab": {
   "provenance": [
    {
     "file_id": "1aLGZ19-GYem3LZdYHuzuwYIeSw_tr0AT",
     "timestamp": 1689682143157
    }
   ]
  },
  "kernelspec": {
   "display_name": "Python 3 (ipykernel)",
   "language": "python",
   "name": "python3"
  },
  "language_info": {
   "codemirror_mode": {
    "name": "ipython",
    "version": 3
   },
   "file_extension": ".py",
   "mimetype": "text/x-python",
   "name": "python",
   "nbconvert_exporter": "python",
   "pygments_lexer": "ipython3",
   "version": "3.9.23"
  },
  "vscode": {
   "interpreter": {
    "hash": "01a7be9ec63e704a62cefc5fe7a4756944464ee731be31632bdf42a4cb4688cf"
   }
  }
 },
 "nbformat": 4,
 "nbformat_minor": 5
}
